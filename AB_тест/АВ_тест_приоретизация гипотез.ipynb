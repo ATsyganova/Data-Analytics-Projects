{
  "cells": [
    {
      "cell_type": "markdown",
      "metadata": {
        "id": "view-in-github",
        "colab_type": "text"
      },
      "source": [
        "<a href=\"https://colab.research.google.com/github/ATsyganova/Data-Analytics-Projects/blob/main/%D0%90%D0%92_%D1%82%D0%B5%D1%81%D1%82.ipynb\" target=\"_parent\"><img src=\"https://colab.research.google.com/assets/colab-badge.svg\" alt=\"Open In Colab\"/></a>"
      ]
    },
    {
      "cell_type": "markdown",
      "metadata": {
        "id": "kaJricdYG6VX"
      },
      "source": [
        "# Принятие бизнес решений на основании анализа данных \n",
        "\n",
        "Имеются данные крупного интернет-магазина. Вместе с отделом маркетинга  подготовлен список гипотез для увеличения выручки.\n",
        "В рамках проекта приоритизированы гипотезы, запущен A/B-тест и проанализированы результаты."
      ]
    },
    {
      "cell_type": "markdown",
      "metadata": {
        "id": "PMRxgv_qHqoH"
      },
      "source": [
        "## Часть 1. Приоритизация гипотез.\n",
        "\n",
        "Необходимо приоретизировать 9 гипотез по увеличению выручки интернет-магазина. Имеющиеся параметры: Reach, Impact, Confidence, Effort"
      ]
    },
    {
      "cell_type": "code",
      "execution_count": null,
      "metadata": {
        "id": "N68sSy0-JBoZ"
      },
      "outputs": [],
      "source": [
        "import pandas as pd\n",
        "import numpy as np\n",
        "import datetime\n",
        "import scipy.stats as stats\n",
        "import matplotlib.pyplot as plt "
      ]
    },
    {
      "cell_type": "code",
      "execution_count": null,
      "metadata": {
        "id": "aafC6AR-JCtA"
      },
      "outputs": [],
      "source": [
        "#открываем \n",
        "\n",
        "url1 = \"https://drive.google.com/file/d/.../view?usp=sharing\"\n",
        "url2 = \"https://drive.google.com/file/d/.../view?usp=sharing\"\n",
        "url3 = \"https://drive.google.com/file/d/.../view?usp=sharing\"\n",
        "\n",
        "hypothesis = pd.read_csv('https://drive.google.com/uc?id=' + url1.split('/')[-2])\n",
        "orders = pd.read_csv('https://drive.google.com/uc?id=' + url2.split('/')[-2])\n",
        "visitors = pd.read_csv('https://drive.google.com/uc?id=' + url3.split('/')[-2])"
      ]
    },
    {
      "cell_type": "code",
      "execution_count": null,
      "metadata": {
        "colab": {
          "base_uri": "https://localhost:8080/",
          "height": 322
        },
        "id": "eH7M-9agJVFf",
        "outputId": "9de4bb16-1807-4fed-c01b-0448bd37030b"
      },
      "outputs": [
        {
          "data": {
            "text/html": [
              "<div>\n",
              "<style scoped>\n",
              "    .dataframe tbody tr th:only-of-type {\n",
              "        vertical-align: middle;\n",
              "    }\n",
              "\n",
              "    .dataframe tbody tr th {\n",
              "        vertical-align: top;\n",
              "    }\n",
              "\n",
              "    .dataframe thead th {\n",
              "        text-align: right;\n",
              "    }\n",
              "</style>\n",
              "<table border=\"1\" class=\"dataframe\">\n",
              "  <thead>\n",
              "    <tr style=\"text-align: right;\">\n",
              "      <th></th>\n",
              "      <th>hypothesis</th>\n",
              "      <th>reach</th>\n",
              "      <th>impact</th>\n",
              "      <th>confidence</th>\n",
              "      <th>efforts</th>\n",
              "    </tr>\n",
              "  </thead>\n",
              "  <tbody>\n",
              "    <tr>\n",
              "      <td>0</td>\n",
              "      <td>Добавить два новых канала привлечения трафика, что позволит привлекать на 30% больше пользователей</td>\n",
              "      <td>3</td>\n",
              "      <td>10</td>\n",
              "      <td>8</td>\n",
              "      <td>6</td>\n",
              "    </tr>\n",
              "    <tr>\n",
              "      <td>1</td>\n",
              "      <td>Запустить собственную службу доставки, что сократит срок доставки заказов</td>\n",
              "      <td>2</td>\n",
              "      <td>5</td>\n",
              "      <td>4</td>\n",
              "      <td>10</td>\n",
              "    </tr>\n",
              "    <tr>\n",
              "      <td>2</td>\n",
              "      <td>Добавить блоки рекомендаций товаров на сайт интернет магазина, чтобы повысить конверсию и средний чек заказа</td>\n",
              "      <td>8</td>\n",
              "      <td>3</td>\n",
              "      <td>7</td>\n",
              "      <td>3</td>\n",
              "    </tr>\n",
              "    <tr>\n",
              "      <td>3</td>\n",
              "      <td>Изменить структура категорий, что увеличит конверсию, т.к. пользователи быстрее найдут нужный товар</td>\n",
              "      <td>8</td>\n",
              "      <td>3</td>\n",
              "      <td>3</td>\n",
              "      <td>8</td>\n",
              "    </tr>\n",
              "    <tr>\n",
              "      <td>4</td>\n",
              "      <td>Изменить цвет фона главной страницы, чтобы увеличить вовлеченность пользователей</td>\n",
              "      <td>3</td>\n",
              "      <td>1</td>\n",
              "      <td>1</td>\n",
              "      <td>1</td>\n",
              "    </tr>\n",
              "    <tr>\n",
              "      <td>5</td>\n",
              "      <td>Добавить страницу отзывов клиентов о магазине, что позволит увеличить количество заказов</td>\n",
              "      <td>3</td>\n",
              "      <td>2</td>\n",
              "      <td>2</td>\n",
              "      <td>3</td>\n",
              "    </tr>\n",
              "    <tr>\n",
              "      <td>6</td>\n",
              "      <td>Показать на главной странице баннеры с актуальными акциями и распродажами, чтобы увеличить конверсию</td>\n",
              "      <td>5</td>\n",
              "      <td>3</td>\n",
              "      <td>8</td>\n",
              "      <td>3</td>\n",
              "    </tr>\n",
              "    <tr>\n",
              "      <td>7</td>\n",
              "      <td>Добавить форму подписки на все основные страницы, чтобы собрать базу клиентов для email-рассылок</td>\n",
              "      <td>10</td>\n",
              "      <td>7</td>\n",
              "      <td>8</td>\n",
              "      <td>5</td>\n",
              "    </tr>\n",
              "    <tr>\n",
              "      <td>8</td>\n",
              "      <td>Запустить акцию, дающую скидку на товар в день рождения</td>\n",
              "      <td>1</td>\n",
              "      <td>9</td>\n",
              "      <td>9</td>\n",
              "      <td>5</td>\n",
              "    </tr>\n",
              "  </tbody>\n",
              "</table>\n",
              "</div>"
            ],
            "text/plain": [
              "                                                                                                     hypothesis  \\\n",
              "0  Добавить два новых канала привлечения трафика, что позволит привлекать на 30% больше пользователей             \n",
              "1  Запустить собственную службу доставки, что сократит срок доставки заказов                                      \n",
              "2  Добавить блоки рекомендаций товаров на сайт интернет магазина, чтобы повысить конверсию и средний чек заказа   \n",
              "3  Изменить структура категорий, что увеличит конверсию, т.к. пользователи быстрее найдут нужный товар            \n",
              "4  Изменить цвет фона главной страницы, чтобы увеличить вовлеченность пользователей                               \n",
              "5  Добавить страницу отзывов клиентов о магазине, что позволит увеличить количество заказов                       \n",
              "6  Показать на главной странице баннеры с актуальными акциями и распродажами, чтобы увеличить конверсию           \n",
              "7  Добавить форму подписки на все основные страницы, чтобы собрать базу клиентов для email-рассылок               \n",
              "8  Запустить акцию, дающую скидку на товар в день рождения                                                        \n",
              "\n",
              "   reach  impact  confidence  efforts  \n",
              "0  3      10      8           6        \n",
              "1  2      5       4           10       \n",
              "2  8      3       7           3        \n",
              "3  8      3       3           8        \n",
              "4  3      1       1           1        \n",
              "5  3      2       2           3        \n",
              "6  5      3       8           3        \n",
              "7  10     7       8           5        \n",
              "8  1      9       9           5        "
            ]
          },
          "execution_count": 3,
          "metadata": {},
          "output_type": "execute_result"
        }
      ],
      "source": [
        "# уберем ограничение на количество символов в строке, чтобы прочитать гипотезу полностью\n",
        "pd.set_option('display.max_colwidth', -1)\n",
        "# приведем названия столбцов к нижнему регистру\n",
        "hypothesis.columns = hypothesis.columns.str.lower()\n",
        "# посмотрим в итоге на таблицу\n",
        "hypothesis"
      ]
    },
    {
      "cell_type": "markdown",
      "metadata": {
        "id": "sOzNZfvFIGjk"
      },
      "source": [
        "### фреймворк ICE "
      ]
    },
    {
      "cell_type": "code",
      "execution_count": null,
      "metadata": {
        "colab": {
          "base_uri": "https://localhost:8080/",
          "height": 322
        },
        "id": "uzdTuBJJGqQO",
        "outputId": "d3f01a8b-b8ab-4788-d658-481e7f8eeccf"
      },
      "outputs": [
        {
          "data": {
            "text/html": [
              "<div>\n",
              "<style scoped>\n",
              "    .dataframe tbody tr th:only-of-type {\n",
              "        vertical-align: middle;\n",
              "    }\n",
              "\n",
              "    .dataframe tbody tr th {\n",
              "        vertical-align: top;\n",
              "    }\n",
              "\n",
              "    .dataframe thead th {\n",
              "        text-align: right;\n",
              "    }\n",
              "</style>\n",
              "<table border=\"1\" class=\"dataframe\">\n",
              "  <thead>\n",
              "    <tr style=\"text-align: right;\">\n",
              "      <th></th>\n",
              "      <th>hypothesis</th>\n",
              "      <th>ICE</th>\n",
              "    </tr>\n",
              "  </thead>\n",
              "  <tbody>\n",
              "    <tr>\n",
              "      <td>8</td>\n",
              "      <td>Запустить акцию, дающую скидку на товар в день рождения</td>\n",
              "      <td>16.200000</td>\n",
              "    </tr>\n",
              "    <tr>\n",
              "      <td>0</td>\n",
              "      <td>Добавить два новых канала привлечения трафика, что позволит привлекать на 30% больше пользователей</td>\n",
              "      <td>13.333333</td>\n",
              "    </tr>\n",
              "    <tr>\n",
              "      <td>7</td>\n",
              "      <td>Добавить форму подписки на все основные страницы, чтобы собрать базу клиентов для email-рассылок</td>\n",
              "      <td>11.200000</td>\n",
              "    </tr>\n",
              "    <tr>\n",
              "      <td>6</td>\n",
              "      <td>Показать на главной странице баннеры с актуальными акциями и распродажами, чтобы увеличить конверсию</td>\n",
              "      <td>8.000000</td>\n",
              "    </tr>\n",
              "    <tr>\n",
              "      <td>2</td>\n",
              "      <td>Добавить блоки рекомендаций товаров на сайт интернет магазина, чтобы повысить конверсию и средний чек заказа</td>\n",
              "      <td>7.000000</td>\n",
              "    </tr>\n",
              "    <tr>\n",
              "      <td>1</td>\n",
              "      <td>Запустить собственную службу доставки, что сократит срок доставки заказов</td>\n",
              "      <td>2.000000</td>\n",
              "    </tr>\n",
              "    <tr>\n",
              "      <td>5</td>\n",
              "      <td>Добавить страницу отзывов клиентов о магазине, что позволит увеличить количество заказов</td>\n",
              "      <td>1.333333</td>\n",
              "    </tr>\n",
              "    <tr>\n",
              "      <td>3</td>\n",
              "      <td>Изменить структура категорий, что увеличит конверсию, т.к. пользователи быстрее найдут нужный товар</td>\n",
              "      <td>1.125000</td>\n",
              "    </tr>\n",
              "    <tr>\n",
              "      <td>4</td>\n",
              "      <td>Изменить цвет фона главной страницы, чтобы увеличить вовлеченность пользователей</td>\n",
              "      <td>1.000000</td>\n",
              "    </tr>\n",
              "  </tbody>\n",
              "</table>\n",
              "</div>"
            ],
            "text/plain": [
              "                                                                                                     hypothesis  \\\n",
              "8  Запустить акцию, дающую скидку на товар в день рождения                                                        \n",
              "0  Добавить два новых канала привлечения трафика, что позволит привлекать на 30% больше пользователей             \n",
              "7  Добавить форму подписки на все основные страницы, чтобы собрать базу клиентов для email-рассылок               \n",
              "6  Показать на главной странице баннеры с актуальными акциями и распродажами, чтобы увеличить конверсию           \n",
              "2  Добавить блоки рекомендаций товаров на сайт интернет магазина, чтобы повысить конверсию и средний чек заказа   \n",
              "1  Запустить собственную службу доставки, что сократит срок доставки заказов                                      \n",
              "5  Добавить страницу отзывов клиентов о магазине, что позволит увеличить количество заказов                       \n",
              "3  Изменить структура категорий, что увеличит конверсию, т.к. пользователи быстрее найдут нужный товар            \n",
              "4  Изменить цвет фона главной страницы, чтобы увеличить вовлеченность пользователей                               \n",
              "\n",
              "         ICE  \n",
              "8  16.200000  \n",
              "0  13.333333  \n",
              "7  11.200000  \n",
              "6  8.000000   \n",
              "2  7.000000   \n",
              "1  2.000000   \n",
              "5  1.333333   \n",
              "3  1.125000   \n",
              "4  1.000000   "
            ]
          },
          "execution_count": 4,
          "metadata": {},
          "output_type": "execute_result"
        }
      ],
      "source": [
        "hypothesis['ICE'] = hypothesis['impact'] * hypothesis['confidence']  / hypothesis['efforts']\n",
        "hypothesis[['hypothesis', 'ICE']].sort_values(by='ICE', ascending=False)"
      ]
    },
    {
      "cell_type": "markdown",
      "metadata": {
        "id": "O2x_qRG_Le0i"
      },
      "source": [
        "Наиболее перспективные гипотезы по ICE: 8, 0, 7"
      ]
    },
    {
      "cell_type": "markdown",
      "metadata": {
        "id": "_zpWCq0WMPAb"
      },
      "source": [
        "### фреймворк RICE"
      ]
    },
    {
      "cell_type": "code",
      "execution_count": null,
      "metadata": {
        "colab": {
          "base_uri": "https://localhost:8080/",
          "height": 322
        },
        "id": "oW6xsTE1HpEO",
        "outputId": "39f26f95-eb02-4766-ccd8-07aac20b49ea"
      },
      "outputs": [
        {
          "data": {
            "text/html": [
              "<div>\n",
              "<style scoped>\n",
              "    .dataframe tbody tr th:only-of-type {\n",
              "        vertical-align: middle;\n",
              "    }\n",
              "\n",
              "    .dataframe tbody tr th {\n",
              "        vertical-align: top;\n",
              "    }\n",
              "\n",
              "    .dataframe thead th {\n",
              "        text-align: right;\n",
              "    }\n",
              "</style>\n",
              "<table border=\"1\" class=\"dataframe\">\n",
              "  <thead>\n",
              "    <tr style=\"text-align: right;\">\n",
              "      <th></th>\n",
              "      <th>hypothesis</th>\n",
              "      <th>RICE</th>\n",
              "      <th>ICE</th>\n",
              "    </tr>\n",
              "  </thead>\n",
              "  <tbody>\n",
              "    <tr>\n",
              "      <td>7</td>\n",
              "      <td>Добавить форму подписки на все основные страницы, чтобы собрать базу клиентов для email-рассылок</td>\n",
              "      <td>112.0</td>\n",
              "      <td>11.200000</td>\n",
              "    </tr>\n",
              "    <tr>\n",
              "      <td>2</td>\n",
              "      <td>Добавить блоки рекомендаций товаров на сайт интернет магазина, чтобы повысить конверсию и средний чек заказа</td>\n",
              "      <td>56.0</td>\n",
              "      <td>7.000000</td>\n",
              "    </tr>\n",
              "    <tr>\n",
              "      <td>0</td>\n",
              "      <td>Добавить два новых канала привлечения трафика, что позволит привлекать на 30% больше пользователей</td>\n",
              "      <td>40.0</td>\n",
              "      <td>13.333333</td>\n",
              "    </tr>\n",
              "    <tr>\n",
              "      <td>6</td>\n",
              "      <td>Показать на главной странице баннеры с актуальными акциями и распродажами, чтобы увеличить конверсию</td>\n",
              "      <td>40.0</td>\n",
              "      <td>8.000000</td>\n",
              "    </tr>\n",
              "    <tr>\n",
              "      <td>8</td>\n",
              "      <td>Запустить акцию, дающую скидку на товар в день рождения</td>\n",
              "      <td>16.2</td>\n",
              "      <td>16.200000</td>\n",
              "    </tr>\n",
              "    <tr>\n",
              "      <td>3</td>\n",
              "      <td>Изменить структура категорий, что увеличит конверсию, т.к. пользователи быстрее найдут нужный товар</td>\n",
              "      <td>9.0</td>\n",
              "      <td>1.125000</td>\n",
              "    </tr>\n",
              "    <tr>\n",
              "      <td>1</td>\n",
              "      <td>Запустить собственную службу доставки, что сократит срок доставки заказов</td>\n",
              "      <td>4.0</td>\n",
              "      <td>2.000000</td>\n",
              "    </tr>\n",
              "    <tr>\n",
              "      <td>5</td>\n",
              "      <td>Добавить страницу отзывов клиентов о магазине, что позволит увеличить количество заказов</td>\n",
              "      <td>4.0</td>\n",
              "      <td>1.333333</td>\n",
              "    </tr>\n",
              "    <tr>\n",
              "      <td>4</td>\n",
              "      <td>Изменить цвет фона главной страницы, чтобы увеличить вовлеченность пользователей</td>\n",
              "      <td>3.0</td>\n",
              "      <td>1.000000</td>\n",
              "    </tr>\n",
              "  </tbody>\n",
              "</table>\n",
              "</div>"
            ],
            "text/plain": [
              "                                                                                                     hypothesis  \\\n",
              "7  Добавить форму подписки на все основные страницы, чтобы собрать базу клиентов для email-рассылок               \n",
              "2  Добавить блоки рекомендаций товаров на сайт интернет магазина, чтобы повысить конверсию и средний чек заказа   \n",
              "0  Добавить два новых канала привлечения трафика, что позволит привлекать на 30% больше пользователей             \n",
              "6  Показать на главной странице баннеры с актуальными акциями и распродажами, чтобы увеличить конверсию           \n",
              "8  Запустить акцию, дающую скидку на товар в день рождения                                                        \n",
              "3  Изменить структура категорий, что увеличит конверсию, т.к. пользователи быстрее найдут нужный товар            \n",
              "1  Запустить собственную службу доставки, что сократит срок доставки заказов                                      \n",
              "5  Добавить страницу отзывов клиентов о магазине, что позволит увеличить количество заказов                       \n",
              "4  Изменить цвет фона главной страницы, чтобы увеличить вовлеченность пользователей                               \n",
              "\n",
              "    RICE        ICE  \n",
              "7  112.0  11.200000  \n",
              "2  56.0   7.000000   \n",
              "0  40.0   13.333333  \n",
              "6  40.0   8.000000   \n",
              "8  16.2   16.200000  \n",
              "3  9.0    1.125000   \n",
              "1  4.0    2.000000   \n",
              "5  4.0    1.333333   \n",
              "4  3.0    1.000000   "
            ]
          },
          "execution_count": 5,
          "metadata": {},
          "output_type": "execute_result"
        }
      ],
      "source": [
        "hypothesis['RICE'] = hypothesis['reach'] * hypothesis['impact'] * hypothesis['confidence']  / hypothesis['efforts']\n",
        "\n",
        "hypothesis[['hypothesis', 'RICE', 'ICE']].sort_values(by='RICE', ascending=False)"
      ]
    },
    {
      "cell_type": "markdown",
      "metadata": {
        "id": "Q-B0L6a5M0pQ"
      },
      "source": [
        "Наиболее перспективные гипотезы по RICE: 7, 2, 0, 6"
      ]
    },
    {
      "cell_type": "markdown",
      "metadata": {
        "id": "lue3xei9N0pY"
      },
      "source": [
        "ВЫВОД\n",
        "\n",
        "Гипотеза \n",
        "    \"Добавить форму подписки на все основные страницы, чтобы собрать базу клиентов для email-рассылок\"\t\n",
        "по всем параметрам приоритизации была высоко оценена, причем, метрика охвата reach = 10 - единственная максимальная оценка среди выдвигаемых гипотез. Благодаря этому данная гипотеза входит в топ-3 приоритизации ICE и возглавляет список RICE. \n",
        "Высокую приоритезацию по двум фреймворкам также имеет гипотеза \n",
        "    \"Добавить два новых канала привлечения трафика, что позволит привлекать на 30% больше пользователей\". \n",
        "Поэтому, на эти две гипотезы стоит обратить внимание в первую очередь.\n",
        "\n",
        "\n",
        "Гипотеза \"Запустить акцию, дающую скидку на товар в день рождения\", лидер приоритизации ICE, повлияет на очень малое кол-во пользователей (reach = 1), поэтому в фреймворке RICE гипотеза получила средний приоритет."
      ]
    },
    {
      "cell_type": "markdown",
      "metadata": {
        "id": "NgfI5g8gR16T"
      },
      "source": [
        "## Часть 2. Анализ A/B-теста"
      ]
    },
    {
      "cell_type": "markdown",
      "metadata": {
        "id": "EOxQ6b6HSKxx"
      },
      "source": [
        "### 1.\tграфик кумулятивной выручки по группам"
      ]
    },
    {
      "cell_type": "code",
      "execution_count": null,
      "metadata": {
        "colab": {
          "base_uri": "https://localhost:8080/",
          "height": 1000
        },
        "id": "T_rGEiJSMn6G",
        "outputId": "8d33462a-0caf-43b2-f77a-f9a69990d728"
      },
      "outputs": [
        {
          "name": "stdout",
          "output_type": "stream",
          "text": [
            "Общая информация о наборе данных \n",
            "\n",
            "Размер таблицы: (1197, 5)\n",
            " \n",
            "\n",
            "Количество пропусков: \n",
            " transactionId    0\n",
            "visitorId        0\n",
            "date             0\n",
            "revenue          0\n",
            "group            0\n",
            "dtype: int64 \n",
            "\n",
            "Тип данных: \n",
            " transactionId    int64 \n",
            "visitorId        int64 \n",
            "date             object\n",
            "revenue          int64 \n",
            "group            object\n",
            "dtype: object \n",
            "\n"
          ]
        },
        {
          "data": {
            "text/html": [
              "<div>\n",
              "<style scoped>\n",
              "    .dataframe tbody tr th:only-of-type {\n",
              "        vertical-align: middle;\n",
              "    }\n",
              "\n",
              "    .dataframe tbody tr th {\n",
              "        vertical-align: top;\n",
              "    }\n",
              "\n",
              "    .dataframe thead th {\n",
              "        text-align: right;\n",
              "    }\n",
              "</style>\n",
              "<table border=\"1\" class=\"dataframe\">\n",
              "  <thead>\n",
              "    <tr style=\"text-align: right;\">\n",
              "      <th></th>\n",
              "      <th>transactionId</th>\n",
              "      <th>visitorId</th>\n",
              "      <th>date</th>\n",
              "      <th>revenue</th>\n",
              "      <th>group</th>\n",
              "    </tr>\n",
              "  </thead>\n",
              "  <tbody>\n",
              "    <tr>\n",
              "      <td>886</td>\n",
              "      <td>51443164</td>\n",
              "      <td>4278982564</td>\n",
              "      <td>2019-08-05</td>\n",
              "      <td>24744</td>\n",
              "      <td>A</td>\n",
              "    </tr>\n",
              "    <tr>\n",
              "      <td>1093</td>\n",
              "      <td>3894437543</td>\n",
              "      <td>276558944</td>\n",
              "      <td>2019-08-12</td>\n",
              "      <td>5050</td>\n",
              "      <td>A</td>\n",
              "    </tr>\n",
              "    <tr>\n",
              "      <td>801</td>\n",
              "      <td>504373597</td>\n",
              "      <td>2604012846</td>\n",
              "      <td>2019-08-05</td>\n",
              "      <td>890</td>\n",
              "      <td>B</td>\n",
              "    </tr>\n",
              "    <tr>\n",
              "      <td>189</td>\n",
              "      <td>4189935502</td>\n",
              "      <td>1648269707</td>\n",
              "      <td>2019-08-17</td>\n",
              "      <td>290</td>\n",
              "      <td>B</td>\n",
              "    </tr>\n",
              "    <tr>\n",
              "      <td>808</td>\n",
              "      <td>2344401705</td>\n",
              "      <td>366673373</td>\n",
              "      <td>2019-08-05</td>\n",
              "      <td>1460</td>\n",
              "      <td>A</td>\n",
              "    </tr>\n",
              "    <tr>\n",
              "      <td>480</td>\n",
              "      <td>1954636284</td>\n",
              "      <td>2600415354</td>\n",
              "      <td>2019-08-06</td>\n",
              "      <td>1530</td>\n",
              "      <td>B</td>\n",
              "    </tr>\n",
              "    <tr>\n",
              "      <td>202</td>\n",
              "      <td>532398042</td>\n",
              "      <td>1306302251</td>\n",
              "      <td>2019-08-23</td>\n",
              "      <td>1498</td>\n",
              "      <td>A</td>\n",
              "    </tr>\n",
              "  </tbody>\n",
              "</table>\n",
              "</div>"
            ],
            "text/plain": [
              "      transactionId   visitorId        date  revenue group\n",
              "886   51443164       4278982564  2019-08-05  24744    A   \n",
              "1093  3894437543     276558944   2019-08-12  5050     A   \n",
              "801   504373597      2604012846  2019-08-05  890      B   \n",
              "189   4189935502     1648269707  2019-08-17  290      B   \n",
              "808   2344401705     366673373   2019-08-05  1460     A   \n",
              "480   1954636284     2600415354  2019-08-06  1530     B   \n",
              "202   532398042      1306302251  2019-08-23  1498     A   "
            ]
          },
          "metadata": {},
          "output_type": "display_data"
        },
        {
          "name": "stdout",
          "output_type": "stream",
          "text": [
            "Размер таблицы: (62, 3)\n",
            " \n",
            "\n",
            "Количество пропусков: \n",
            " date        0\n",
            "group       0\n",
            "visitors    0\n",
            "dtype: int64 \n",
            "\n",
            "Тип данных: \n",
            " date        object\n",
            "group       object\n",
            "visitors    int64 \n",
            "dtype: object \n",
            "\n"
          ]
        },
        {
          "data": {
            "text/html": [
              "<div>\n",
              "<style scoped>\n",
              "    .dataframe tbody tr th:only-of-type {\n",
              "        vertical-align: middle;\n",
              "    }\n",
              "\n",
              "    .dataframe tbody tr th {\n",
              "        vertical-align: top;\n",
              "    }\n",
              "\n",
              "    .dataframe thead th {\n",
              "        text-align: right;\n",
              "    }\n",
              "</style>\n",
              "<table border=\"1\" class=\"dataframe\">\n",
              "  <thead>\n",
              "    <tr style=\"text-align: right;\">\n",
              "      <th></th>\n",
              "      <th>date</th>\n",
              "      <th>group</th>\n",
              "      <th>visitors</th>\n",
              "    </tr>\n",
              "  </thead>\n",
              "  <tbody>\n",
              "    <tr>\n",
              "      <td>21</td>\n",
              "      <td>2019-08-22</td>\n",
              "      <td>A</td>\n",
              "      <td>609</td>\n",
              "    </tr>\n",
              "    <tr>\n",
              "      <td>52</td>\n",
              "      <td>2019-08-22</td>\n",
              "      <td>B</td>\n",
              "      <td>650</td>\n",
              "    </tr>\n",
              "    <tr>\n",
              "      <td>38</td>\n",
              "      <td>2019-08-08</td>\n",
              "      <td>B</td>\n",
              "      <td>654</td>\n",
              "    </tr>\n",
              "    <tr>\n",
              "      <td>24</td>\n",
              "      <td>2019-08-25</td>\n",
              "      <td>A</td>\n",
              "      <td>621</td>\n",
              "    </tr>\n",
              "    <tr>\n",
              "      <td>2</td>\n",
              "      <td>2019-08-03</td>\n",
              "      <td>A</td>\n",
              "      <td>507</td>\n",
              "    </tr>\n",
              "    <tr>\n",
              "      <td>41</td>\n",
              "      <td>2019-08-11</td>\n",
              "      <td>B</td>\n",
              "      <td>721</td>\n",
              "    </tr>\n",
              "    <tr>\n",
              "      <td>60</td>\n",
              "      <td>2019-08-30</td>\n",
              "      <td>B</td>\n",
              "      <td>490</td>\n",
              "    </tr>\n",
              "  </tbody>\n",
              "</table>\n",
              "</div>"
            ],
            "text/plain": [
              "          date group  visitors\n",
              "21  2019-08-22  A     609     \n",
              "52  2019-08-22  B     650     \n",
              "38  2019-08-08  B     654     \n",
              "24  2019-08-25  A     621     \n",
              "2   2019-08-03  A     507     \n",
              "41  2019-08-11  B     721     \n",
              "60  2019-08-30  B     490     "
            ]
          },
          "metadata": {},
          "output_type": "display_data"
        }
      ],
      "source": [
        "print('Общая информация о наборе данных \\n')\n",
        "\n",
        "def info(data):\n",
        "  print('Размер таблицы: {}\\n'.format(data.shape), '\\n')\n",
        "  #data.info()\n",
        "  print('Количество пропусков: \\n', data.isnull().sum(), '\\n')\n",
        "  print('Тип данных: \\n', data.dtypes, '\\n')\n",
        "  display(data.sample(7, random_state=1))\n",
        "\n",
        "info(orders)\n",
        "info(visitors)"
      ]
    },
    {
      "cell_type": "code",
      "execution_count": null,
      "metadata": {
        "colab": {
          "base_uri": "https://localhost:8080/"
        },
        "id": "tQvPbNXFTUWQ",
        "outputId": "953a47c1-6e81-40b6-f492-681a69a514e4"
      },
      "outputs": [
        {
          "name": "stdout",
          "output_type": "stream",
          "text": [
            "Проверка типа данных orders[date]: datetime64[ns]\n",
            "Проверка типа данных visitors[date]: datetime64[ns]\n"
          ]
        }
      ],
      "source": [
        "# приведем формат даты в порядок \n",
        "\n",
        "orders['date'] = pd.to_datetime(orders['date'])\n",
        "print('Проверка типа данных orders[date]:', orders['date'].dtype)\n",
        "visitors['date'] = pd.to_datetime(visitors['date'])\n",
        "print('Проверка типа данных visitors[date]:',visitors['date'].dtype)"
      ]
    },
    {
      "cell_type": "code",
      "execution_count": null,
      "metadata": {
        "id": "DudIlej6LoSl",
        "outputId": "b7f3bf41-8a5e-40f3-fab3-77f072a8665e"
      },
      "outputs": [
        {
          "data": {
            "text/plain": [
              "58"
            ]
          },
          "execution_count": 8,
          "metadata": {},
          "output_type": "execute_result"
        }
      ],
      "source": [
        "# проверим, попали ли пользователи в 2 группы одновременно\n",
        "test = orders.groupby('visitorId', as_index=False).agg({'group': pd.Series.nunique}).query('group == 2')\n",
        "test['visitorId'].count()"
      ]
    },
    {
      "cell_type": "code",
      "execution_count": null,
      "metadata": {
        "id": "G-t74WXGLoSn",
        "outputId": "7b8dcd18-b5fa-4430-d9ad-af8a4e051b7d"
      },
      "outputs": [
        {
          "data": {
            "text/plain": [
              "array([   8300375,  199603092,  232979603,  237748145,  276558944,\n",
              "        351125977,  393266494,  457167155,  471551937,  477780734,\n",
              "        818047933,  963407295, 1230306981, 1294878855, 1316129916,\n",
              "       1333886533, 1404934699, 1602967004, 1614305549, 1648269707,\n",
              "       1668030113, 1738359350, 1801183820, 1959144690, 2038680547,\n",
              "       2044997962, 2378935119, 2458001652, 2579882178, 2587333274,\n",
              "       2600415354, 2654030115, 2686716486, 2712142231, 2716752286,\n",
              "       2780786433, 2927087541, 2949041841, 2954449915, 3062433592,\n",
              "       3202540741, 3234906277, 3656415546, 3717692402, 3766097110,\n",
              "       3803269165, 3891541246, 3941795274, 3951559397, 3957174400,\n",
              "       3963646447, 3972127743, 3984495233, 4069496402, 4120364173,\n",
              "       4186807279, 4256040402, 4266935830])"
            ]
          },
          "execution_count": 9,
          "metadata": {},
          "output_type": "execute_result"
        }
      ],
      "source": [
        "# у нас 58 пользователей, которые попали в обе тестовые группы. Получим массив с их id \n",
        "id_error = test['visitorId'].values\n",
        "id_error"
      ]
    },
    {
      "cell_type": "code",
      "execution_count": null,
      "metadata": {
        "id": "r6GBHEAdLoSq",
        "outputId": "6adf3f5a-8cc6-4b1c-8d6b-183add3d2c71"
      },
      "outputs": [
        {
          "name": "stdout",
          "output_type": "stream",
          "text": [
            "Количество пользователей, попавших в обе группы одновременно:  0\n"
          ]
        }
      ],
      "source": [
        "# удалим информацию о пользователях из датасета\n",
        "orders = orders.query(\"visitorId not in @id_error\")\n",
        "print('Количество пользователей, попавших в обе группы одновременно: ', \n",
        "      orders.groupby('visitorId').agg({'group': pd.Series.nunique}).query('group == 2')['group'].count())"
      ]
    },
    {
      "cell_type": "code",
      "execution_count": null,
      "metadata": {
        "colab": {
          "base_uri": "https://localhost:8080/",
          "height": 201
        },
        "id": "vmeGcMTVVfYx",
        "outputId": "0ee3f80e-5a80-4072-a1dd-9e02b29011be"
      },
      "outputs": [
        {
          "data": {
            "text/html": [
              "<div>\n",
              "<style scoped>\n",
              "    .dataframe tbody tr th:only-of-type {\n",
              "        vertical-align: middle;\n",
              "    }\n",
              "\n",
              "    .dataframe tbody tr th {\n",
              "        vertical-align: top;\n",
              "    }\n",
              "\n",
              "    .dataframe thead th {\n",
              "        text-align: right;\n",
              "    }\n",
              "</style>\n",
              "<table border=\"1\" class=\"dataframe\">\n",
              "  <thead>\n",
              "    <tr style=\"text-align: right;\">\n",
              "      <th></th>\n",
              "      <th>date</th>\n",
              "      <th>group</th>\n",
              "      <th>transactionId</th>\n",
              "      <th>visitorId</th>\n",
              "      <th>revenue</th>\n",
              "    </tr>\n",
              "  </thead>\n",
              "  <tbody>\n",
              "    <tr>\n",
              "      <td>55</td>\n",
              "      <td>2019-08-01</td>\n",
              "      <td>A</td>\n",
              "      <td>23</td>\n",
              "      <td>19</td>\n",
              "      <td>142779</td>\n",
              "    </tr>\n",
              "    <tr>\n",
              "      <td>66</td>\n",
              "      <td>2019-08-01</td>\n",
              "      <td>B</td>\n",
              "      <td>17</td>\n",
              "      <td>17</td>\n",
              "      <td>59758</td>\n",
              "    </tr>\n",
              "    <tr>\n",
              "      <td>175</td>\n",
              "      <td>2019-08-02</td>\n",
              "      <td>A</td>\n",
              "      <td>42</td>\n",
              "      <td>36</td>\n",
              "      <td>234381</td>\n",
              "    </tr>\n",
              "    <tr>\n",
              "      <td>173</td>\n",
              "      <td>2019-08-02</td>\n",
              "      <td>B</td>\n",
              "      <td>40</td>\n",
              "      <td>39</td>\n",
              "      <td>221801</td>\n",
              "    </tr>\n",
              "    <tr>\n",
              "      <td>291</td>\n",
              "      <td>2019-08-03</td>\n",
              "      <td>A</td>\n",
              "      <td>66</td>\n",
              "      <td>60</td>\n",
              "      <td>346854</td>\n",
              "    </tr>\n",
              "  </tbody>\n",
              "</table>\n",
              "</div>"
            ],
            "text/plain": [
              "          date group  transactionId  visitorId  revenue\n",
              "55  2019-08-01  A     23             19         142779 \n",
              "66  2019-08-01  B     17             17         59758  \n",
              "175 2019-08-02  A     42             36         234381 \n",
              "173 2019-08-02  B     40             39         221801 \n",
              "291 2019-08-03  A     66             60         346854 "
            ]
          },
          "execution_count": 11,
          "metadata": {},
          "output_type": "execute_result"
        }
      ],
      "source": [
        "# создаем массив уникальных пар значений дат и групп теста\n",
        "datesGroups = orders[['date', 'group']].drop_duplicates()\n",
        "\n",
        "#Соберём агрегированные кумулятивные по дням данные о заказах\n",
        "\n",
        "ordersAggregated = datesGroups.apply(\n",
        "    lambda x: orders[\n",
        "        np.logical_and(\n",
        "            orders['date'] <= x['date'], orders['group'] == x['group']\n",
        "        )\n",
        "    ].agg(\n",
        "        {\n",
        "            'date': 'max',\n",
        "            'group': 'max',\n",
        "            'transactionId': pd.Series.nunique,\n",
        "            'visitorId': pd.Series.nunique,\n",
        "            'revenue': 'sum',\n",
        "        }\n",
        "    ),\n",
        "    axis=1,\n",
        ").sort_values(by=['date', 'group'])\n",
        "\n",
        "ordersAggregated.head()"
      ]
    },
    {
      "cell_type": "code",
      "execution_count": null,
      "metadata": {
        "colab": {
          "base_uri": "https://localhost:8080/",
          "height": 201
        },
        "id": "_5250-MpYXWX",
        "outputId": "0242fe88-0ca1-4107-ea96-a78da08e26ad"
      },
      "outputs": [
        {
          "data": {
            "text/html": [
              "<div>\n",
              "<style scoped>\n",
              "    .dataframe tbody tr th:only-of-type {\n",
              "        vertical-align: middle;\n",
              "    }\n",
              "\n",
              "    .dataframe tbody tr th {\n",
              "        vertical-align: top;\n",
              "    }\n",
              "\n",
              "    .dataframe thead th {\n",
              "        text-align: right;\n",
              "    }\n",
              "</style>\n",
              "<table border=\"1\" class=\"dataframe\">\n",
              "  <thead>\n",
              "    <tr style=\"text-align: right;\">\n",
              "      <th></th>\n",
              "      <th>date</th>\n",
              "      <th>group</th>\n",
              "      <th>visitors</th>\n",
              "    </tr>\n",
              "  </thead>\n",
              "  <tbody>\n",
              "    <tr>\n",
              "      <td>55</td>\n",
              "      <td>2019-08-01</td>\n",
              "      <td>A</td>\n",
              "      <td>719</td>\n",
              "    </tr>\n",
              "    <tr>\n",
              "      <td>66</td>\n",
              "      <td>2019-08-01</td>\n",
              "      <td>B</td>\n",
              "      <td>713</td>\n",
              "    </tr>\n",
              "    <tr>\n",
              "      <td>175</td>\n",
              "      <td>2019-08-02</td>\n",
              "      <td>A</td>\n",
              "      <td>1338</td>\n",
              "    </tr>\n",
              "    <tr>\n",
              "      <td>173</td>\n",
              "      <td>2019-08-02</td>\n",
              "      <td>B</td>\n",
              "      <td>1294</td>\n",
              "    </tr>\n",
              "    <tr>\n",
              "      <td>291</td>\n",
              "      <td>2019-08-03</td>\n",
              "      <td>A</td>\n",
              "      <td>1845</td>\n",
              "    </tr>\n",
              "  </tbody>\n",
              "</table>\n",
              "</div>"
            ],
            "text/plain": [
              "          date group  visitors\n",
              "55  2019-08-01  A     719     \n",
              "66  2019-08-01  B     713     \n",
              "175 2019-08-02  A     1338    \n",
              "173 2019-08-02  B     1294    \n",
              "291 2019-08-03  A     1845    "
            ]
          },
          "execution_count": 12,
          "metadata": {},
          "output_type": "execute_result"
        }
      ],
      "source": [
        "# получим агрегированные кумулятивные по дням данные о посетителях интернет-магазина:\n",
        "\n",
        "visitorsAggregated = datesGroups.apply(\n",
        "    lambda x: visitors[\n",
        "        np.logical_and(\n",
        "            visitors['date'] <= x['date'], visitors['group'] == x['group']\n",
        "        )\n",
        "    ].agg({'date': 'max', 'group': 'max', 'visitors': 'sum'}),\n",
        "    axis=1,\n",
        ").sort_values(by=['date', 'group'])\n",
        "visitorsAggregated.head()"
      ]
    },
    {
      "cell_type": "code",
      "execution_count": null,
      "metadata": {
        "colab": {
          "base_uri": "https://localhost:8080/",
          "height": 201
        },
        "id": "kyn7i90vcvVf",
        "outputId": "e878ebee-bec2-44c2-d0ec-09c1e74c0383"
      },
      "outputs": [
        {
          "data": {
            "text/html": [
              "<div>\n",
              "<style scoped>\n",
              "    .dataframe tbody tr th:only-of-type {\n",
              "        vertical-align: middle;\n",
              "    }\n",
              "\n",
              "    .dataframe tbody tr th {\n",
              "        vertical-align: top;\n",
              "    }\n",
              "\n",
              "    .dataframe thead th {\n",
              "        text-align: right;\n",
              "    }\n",
              "</style>\n",
              "<table border=\"1\" class=\"dataframe\">\n",
              "  <thead>\n",
              "    <tr style=\"text-align: right;\">\n",
              "      <th></th>\n",
              "      <th>date</th>\n",
              "      <th>group</th>\n",
              "      <th>orders</th>\n",
              "      <th>buyers</th>\n",
              "      <th>revenue</th>\n",
              "      <th>visitors</th>\n",
              "    </tr>\n",
              "  </thead>\n",
              "  <tbody>\n",
              "    <tr>\n",
              "      <td>0</td>\n",
              "      <td>2019-08-01</td>\n",
              "      <td>A</td>\n",
              "      <td>23</td>\n",
              "      <td>19</td>\n",
              "      <td>142779</td>\n",
              "      <td>719</td>\n",
              "    </tr>\n",
              "    <tr>\n",
              "      <td>1</td>\n",
              "      <td>2019-08-01</td>\n",
              "      <td>B</td>\n",
              "      <td>17</td>\n",
              "      <td>17</td>\n",
              "      <td>59758</td>\n",
              "      <td>713</td>\n",
              "    </tr>\n",
              "    <tr>\n",
              "      <td>2</td>\n",
              "      <td>2019-08-02</td>\n",
              "      <td>A</td>\n",
              "      <td>42</td>\n",
              "      <td>36</td>\n",
              "      <td>234381</td>\n",
              "      <td>1338</td>\n",
              "    </tr>\n",
              "    <tr>\n",
              "      <td>3</td>\n",
              "      <td>2019-08-02</td>\n",
              "      <td>B</td>\n",
              "      <td>40</td>\n",
              "      <td>39</td>\n",
              "      <td>221801</td>\n",
              "      <td>1294</td>\n",
              "    </tr>\n",
              "    <tr>\n",
              "      <td>4</td>\n",
              "      <td>2019-08-03</td>\n",
              "      <td>A</td>\n",
              "      <td>66</td>\n",
              "      <td>60</td>\n",
              "      <td>346854</td>\n",
              "      <td>1845</td>\n",
              "    </tr>\n",
              "  </tbody>\n",
              "</table>\n",
              "</div>"
            ],
            "text/plain": [
              "        date group  orders  buyers  revenue  visitors\n",
              "0 2019-08-01  A     23      19      142779   719     \n",
              "1 2019-08-01  B     17      17      59758    713     \n",
              "2 2019-08-02  A     42      36      234381   1338    \n",
              "3 2019-08-02  B     40      39      221801   1294    \n",
              "4 2019-08-03  A     66      60      346854   1845    "
            ]
          },
          "execution_count": 13,
          "metadata": {},
          "output_type": "execute_result"
        }
      ],
      "source": [
        "# объединяем кумулятивные данные в одной таблице\n",
        "\n",
        "cumulativeData = ordersAggregated.merge(\n",
        "    visitorsAggregated, left_on=['date', 'group'], right_on=['date', 'group']\n",
        ")\n",
        "cumulativeData.columns = [\n",
        "    'date',\n",
        "    'group',\n",
        "    'orders',\n",
        "    'buyers',\n",
        "    'revenue',\n",
        "    'visitors',\n",
        "]\n",
        "cumulativeData.head()"
      ]
    },
    {
      "cell_type": "code",
      "execution_count": null,
      "metadata": {
        "id": "Rh9QYJI5dlqw"
      },
      "outputs": [],
      "source": [
        "# датафрейм с кумулятивным количеством заказов и кумулятивной выручкой по дням в группе А\n",
        "cumulativeRevenueA = cumulativeData[cumulativeData['group']=='A'][['date','revenue', 'orders']]\n",
        "# датафрейм с кумулятивным количеством заказов и кумулятивной выручкой по дням в группе B\n",
        "cumulativeRevenueB = cumulativeData[cumulativeData['group']=='B'][['date','revenue', 'orders']]"
      ]
    },
    {
      "cell_type": "code",
      "execution_count": null,
      "metadata": {
        "id": "BGdWEMVdLoSy"
      },
      "outputs": [],
      "source": [
        "from pandas.plotting import register_matplotlib_converters\n",
        "register_matplotlib_converters()"
      ]
    },
    {
      "cell_type": "code",
      "execution_count": null,
      "metadata": {
        "colab": {
          "base_uri": "https://localhost:8080/",
          "height": 329
        },
        "id": "ae9Aapdzd6NA",
        "outputId": "7b629ac9-2a94-4d1b-b3c0-de08b8df57e6"
      },
      "outputs": [
        {
          "data": {
            "image/png": "[encoded data removed]",
            "text/plain": [
              "<Figure size 1080x360 with 1 Axes>"
            ]
          },
          "metadata": {
            "needs_background": "light"
          },
          "output_type": "display_data"
        }
      ],
      "source": [
        "# Строим график выручки групп\n",
        "plt.figure(figsize=(15, 5))\n",
        "plt.plot(cumulativeRevenueA['date'], cumulativeRevenueA['revenue'], label='A')\n",
        "plt.plot(cumulativeRevenueB['date'], cumulativeRevenueB['revenue'], label='B')\n",
        "plt.legend()\n",
        "plt.title(\"График кумулятивной выручки по группам\")\n",
        "plt.xlabel(\"Дата совершения заказа\")\n",
        "plt.ylabel(\"Кумулятивная выручка, у.е\")\n",
        "plt.annotate('скачок', xy=('2019-08-17', 2800000), xytext=('2019-08-10', 3500000),\n",
        "            arrowprops=dict(facecolor='g'))\n",
        "plt.annotate('отрыв', xy=('2019-08-05', 800000), xytext=('2019-08-05', 2000000),\n",
        "            arrowprops=dict(facecolor='g')) \n",
        "plt.show()"
      ]
    },
    {
      "cell_type": "markdown",
      "metadata": {
        "id": "q2Ve7X-dg1OT"
      },
      "source": [
        "Выручка почти равномерно увеличивается в течение всего теста. \n",
        "Однако график выручки группы В имеет точку резкого роста. Это может сигнализировать о всплесках числа заказов, либо о появлении очень дорогих заказов в выборке. "
      ]
    },
    {
      "cell_type": "markdown",
      "metadata": {
        "id": "tHuTdTfLhURv"
      },
      "source": [
        "### 2. график кумулятивного среднего чека по группам"
      ]
    },
    {
      "cell_type": "code",
      "execution_count": null,
      "metadata": {
        "colab": {
          "base_uri": "https://localhost:8080/",
          "height": 318
        },
        "id": "yc-MFbxSgQwz",
        "outputId": "c1fa06b1-1d21-43b9-92fc-40fe54ece117"
      },
      "outputs": [
        {
          "data": {
            "image/png": "[encoded data removed]",
            "text/plain": [
              "<Figure size 1080x360 with 1 Axes>"
            ]
          },
          "metadata": {
            "needs_background": "light"
          },
          "output_type": "display_data"
        }
      ],
      "source": [
        "plt.figure(figsize=(15, 5))\n",
        "plt.plot(cumulativeRevenueA['date'], cumulativeRevenueA['revenue']/cumulativeRevenueA['orders'], label='A')\n",
        "plt.plot(cumulativeRevenueB['date'], cumulativeRevenueB['revenue']/cumulativeRevenueB['orders'], label='B')\n",
        "plt.title(\"График кумулятивного среднего чека по группам\")\n",
        "plt.xlabel(\"Дата совершения заказа\")\n",
        "plt.ylabel(\"Размер среднего чека, у.е\")\n",
        "plt.annotate('Крупный заказ', xy=('2019-08-19', 10500), xytext=('2019-08-13', 8000),\n",
        "            arrowprops=dict(facecolor='g'))\n",
        "plt.legend()\n",
        "plt.show()"
      ]
    },
    {
      "cell_type": "markdown",
      "metadata": {
        "id": "SUh0Rv61h-2S"
      },
      "source": [
        "Резкий рост графика группы В подтверждает предположении о попадании в выборку крупных заказов. Чтобы прийти к реальному среднему чеку и установиться на его уровне, было бы хорошо получить больше данных.\n",
        "\n",
        "Можно считать, что среднее значение чека для группы А установилось (хотя и наблюдается небольшая тенденция к росту)"
      ]
    },
    {
      "cell_type": "markdown",
      "metadata": {
        "id": "EdyNSLF9jCa7"
      },
      "source": [
        "### 3. график относительного изменения кумулятивного среднего чека группы B к группе A"
      ]
    },
    {
      "cell_type": "code",
      "execution_count": null,
      "metadata": {
        "colab": {
          "base_uri": "https://localhost:8080/",
          "height": 318
        },
        "id": "1534_SAhhpNj",
        "outputId": "a823fba2-9a36-4c26-dbdc-09936ec82606"
      },
      "outputs": [
        {
          "data": {
            "image/png": "[encoded data removed]",
            "text/plain": [
              "<Figure size 1080x360 with 1 Axes>"
            ]
          },
          "metadata": {
            "needs_background": "light"
          },
          "output_type": "display_data"
        }
      ],
      "source": [
        "# собираем данные в одном датафрейме\n",
        "mergedCumulativeRevenue = cumulativeRevenueA.merge(cumulativeRevenueB, left_on='date', right_on='date', how='left', suffixes=['A', 'B'])\n",
        "\n",
        "# cтроим отношение средних чеков\n",
        "plt.figure(figsize=(15, 5))\n",
        "plt.plot(mergedCumulativeRevenue['date'], (mergedCumulativeRevenue['revenueB']/mergedCumulativeRevenue['ordersB'])/(mergedCumulativeRevenue['revenueA']/mergedCumulativeRevenue['ordersA'])-1)\n",
        "# добавляем ось X\n",
        "plt.axhline(y=0, color='black', linestyle='--')\n",
        "plt.title(\"График относительного изменения кумулятивного среднего чека группы B к группе A\")\n",
        "plt.xlabel(\"Дата совершения заказа\")\n",
        "plt.ylabel(\"ср.чек B / ср.чек A, \\n в долях\")\n",
        "plt.show()\n",
        "\n"
      ]
    },
    {
      "cell_type": "markdown",
      "metadata": {
        "id": "625HcruQlQv8"
      },
      "source": [
        "Однозначного вывода сделать нельзя, поскольку характер графика сильно меняется со временем из-за наличия выбросов"
      ]
    },
    {
      "cell_type": "markdown",
      "metadata": {
        "id": "wdkFMhVzlqhb"
      },
      "source": [
        "### 4. график кумулятивной конверсии по группам"
      ]
    },
    {
      "cell_type": "code",
      "execution_count": null,
      "metadata": {
        "colab": {
          "base_uri": "https://localhost:8080/",
          "height": 318
        },
        "id": "L__0pqHSjOzP",
        "outputId": "93faad8e-502b-4a60-bf11-7f050fcb57d3"
      },
      "outputs": [
        {
          "data": {
            "image/png": "[encoded data removed]",
            "text/plain": [
              "<Figure size 1080x360 with 1 Axes>"
            ]
          },
          "metadata": {
            "needs_background": "light"
          },
          "output_type": "display_data"
        }
      ],
      "source": [
        "# считаем кумулятивную конверсию\n",
        "cumulativeData['conversion'] = cumulativeData['orders']/cumulativeData['visitors']\n",
        "\n",
        "# отделяем данные по группе A\n",
        "cumulativeDataA = cumulativeData[cumulativeData['group']=='A']\n",
        "\n",
        "# отделяем данные по группе B\n",
        "cumulativeDataB = cumulativeData[cumulativeData['group']=='B']\n",
        "\n",
        "# строим графики\n",
        "plt.figure(figsize=(15, 5))\n",
        "plt.plot(cumulativeDataA['date'], cumulativeDataA['conversion'], label='A')\n",
        "plt.plot(cumulativeDataB['date'], cumulativeDataB['conversion'], label='B')\n",
        "plt.legend()\n",
        "plt.title(\"График кумулятивной конверсии по группам\")\n",
        "plt.xlabel(\"Дата совершения заказа\")\n",
        "plt.ylabel(\"Кумулятивная конверсия по группам, \\n в долях\")\n",
        "plt.show()"
      ]
    },
    {
      "cell_type": "markdown",
      "metadata": {
        "id": "UVX4Vps2mJEO"
      },
      "source": [
        "Кумулятивная конверсия группы В, в целом, зафиксировалась на более высоких значениях, чем для группы А. Однако, замечаем еще некоторые колебания значений, не влияющие на общий вывод"
      ]
    },
    {
      "cell_type": "markdown",
      "metadata": {
        "id": "Zha-tsMrmf0X"
      },
      "source": [
        "### 5. график относительного изменения кумулятивной конверсии группы B к группе A"
      ]
    },
    {
      "cell_type": "code",
      "execution_count": null,
      "metadata": {
        "colab": {
          "base_uri": "https://localhost:8080/",
          "height": 318
        },
        "id": "9pI-uSiEl4M8",
        "outputId": "9e74fc31-9390-4628-894e-6a427116983c"
      },
      "outputs": [
        {
          "data": {
            "image/png": "[encoded data removed]",
            "text/plain": [
              "<Figure size 1080x360 with 1 Axes>"
            ]
          },
          "metadata": {
            "needs_background": "light"
          },
          "output_type": "display_data"
        }
      ],
      "source": [
        "# объединим таблицы\n",
        "mergedCumulativeConversions = cumulativeDataA[['date','conversion']].merge(cumulativeDataB[['date','conversion']], \n",
        "                                                                           left_on='date', right_on='date', how='left', suffixes=['A', 'B'])\n",
        "# строим графики\n",
        "plt.figure(figsize=(15, 5))\n",
        "plt.plot(mergedCumulativeConversions['date'], mergedCumulativeConversions['conversionB']/mergedCumulativeConversions['conversionA']-1\n",
        "         )\n",
        "\n",
        "\n",
        "plt.axhline(y=0, color='black', linestyle='--')\n",
        "plt.axhline(y=0.1, color='grey', linestyle='--')\n",
        "\n",
        "plt.title(\"График относительного изменения кумулятивной конверсии группы B к группе A\")\n",
        "plt.xlabel(\"Дата совершения заказа\")\n",
        "plt.ylabel(\"Относительное изменение конверсии \\n группы B к группе A,  в долях\")\n",
        "plt.show()"
      ]
    },
    {
      "cell_type": "markdown",
      "metadata": {
        "id": "kCiUJLPunsAH"
      },
      "source": [
        "В первые дни теста происходили резкие взлеты и падения, однако после 4 дней наблюдений группа В однозначно выигрывает у группы А. Как и в предыдущем выводе, об окончательных значениях пока еще рано говорить, поскольку на графике наблюдаются колебания значений."
      ]
    },
    {
      "cell_type": "markdown",
      "metadata": {
        "id": "T4Yys9Flsf37"
      },
      "source": [
        "### 6. точечный график количества заказов "
      ]
    },
    {
      "cell_type": "code",
      "execution_count": null,
      "metadata": {
        "id": "VMhZQ_VdszUc"
      },
      "outputs": [],
      "source": [
        "# количество заказов по пользователям\n",
        "ordersByUsers = (\n",
        "    orders.drop(['group', 'revenue', 'date'], axis=1)\n",
        "    .groupby('visitorId', as_index=False)\n",
        "    .agg({'transactionId': pd.Series.nunique})\n",
        ")\n",
        "ordersByUsers.columns = ['userId', 'orders']"
      ]
    },
    {
      "cell_type": "code",
      "execution_count": null,
      "metadata": {
        "colab": {
          "base_uri": "https://localhost:8080/",
          "height": 590
        },
        "id": "bKi2_EyttTwA",
        "outputId": "2b0c4b95-a9ec-4cc0-ed5d-e37be707942c"
      },
      "outputs": [
        {
          "data": {
            "image/png": "[encoded data removed]",
            "text/plain": [
              "<Figure size 720x288 with 1 Axes>"
            ]
          },
          "metadata": {
            "needs_background": "light"
          },
          "output_type": "display_data"
        }
      ],
      "source": [
        "# Построим точечную диаграмму числа заказов на одного пользователя\n",
        "plt.figure(figsize=(10, 4))\n",
        "plt.scatter(pd.Series(range(0,len(ordersByUsers))), ordersByUsers['orders']) \n",
        "plt.title(\"График распределения по количеству заказов\")\n",
        "plt.ylabel(\"Количество заказов, шт\")\n",
        "plt.show() "
      ]
    },
    {
      "cell_type": "markdown",
      "metadata": {
        "id": "QJgEXwtFuK07"
      },
      "source": [
        "Чаще всего пользователи совершали 1-2 заказов"
      ]
    },
    {
      "cell_type": "markdown",
      "metadata": {
        "id": "98_ibZ1Yup5L"
      },
      "source": [
        "### 7. 95-й и 99-й перцентили количества заказов на пользователя. \n",
        "\n",
        "Выберите границу для определения аномальных пользователей."
      ]
    },
    {
      "cell_type": "code",
      "execution_count": null,
      "metadata": {
        "colab": {
          "base_uri": "https://localhost:8080/"
        },
        "id": "gcfbJrDsuzIz",
        "outputId": "f571fa84-66cd-4d7c-8e40-050298f9aae8"
      },
      "outputs": [
        {
          "data": {
            "text/plain": [
              "array([1., 2.])"
            ]
          },
          "execution_count": 23,
          "metadata": {},
          "output_type": "execute_result"
        }
      ],
      "source": [
        "np.percentile(ordersByUsers['orders'], [95, 99])"
      ]
    },
    {
      "cell_type": "markdown",
      "metadata": {
        "id": "0_DlAEHPvBtd"
      },
      "source": [
        "Отсечем 1% самых активных пользователей и будем считать аномалиями количество заказов, большее 2. Иначе мы не сможем определить, что кратность заказов хоть сколько-то увеличилась"
      ]
    },
    {
      "cell_type": "markdown",
      "metadata": {
        "id": "DOdlo1Y-ojlA"
      },
      "source": [
        "### 8. точечный график стоимостей заказов"
      ]
    },
    {
      "cell_type": "code",
      "execution_count": null,
      "metadata": {
        "colab": {
          "base_uri": "https://localhost:8080/",
          "height": 749
        },
        "id": "a6umE6uUm-S0",
        "outputId": "12b4c985-d1ef-46f6-fc9c-ef82fa3582a0"
      },
      "outputs": [
        {
          "data": {
            "image/png": "[encoded data removed]",
            "text/plain": [
              "<Figure size 720x360 with 1 Axes>"
            ]
          },
          "metadata": {
            "needs_background": "light"
          },
          "output_type": "display_data"
        },
        {
          "data": {
            "text/plain": [
              "count    1.016000e+03\n",
              "mean     8.300815e+03\n",
              "std      4.212199e+04\n",
              "min      5.000000e+01\n",
              "25%      1.190000e+03\n",
              "50%      2.955000e+03\n",
              "75%      8.134250e+03\n",
              "max      1.294500e+06\n",
              "Name: revenue, dtype: float64"
            ]
          },
          "execution_count": 24,
          "metadata": {},
          "output_type": "execute_result"
        }
      ],
      "source": [
        "plt.figure(figsize=(10, 5))\n",
        "plt.scatter(pd.Series(range(0,len(orders['revenue']))), orders['revenue'], alpha=0.7, s=15) \n",
        "plt.title(\"График распределения стоимостей заказов\")\n",
        "plt.ylabel(\"Сумма заказа, у.е\")\n",
        "plt.show()  \n",
        "\n",
        "orders['revenue'].describe()"
      ]
    },
    {
      "cell_type": "markdown",
      "metadata": {
        "id": "WmAUNpSbpxii"
      },
      "source": [
        "Есть 1 очень большой выброс (1.29 млн) из-за чего значения на графике сливаются и понять, на какую сумму чаще всего совершали заказы, нельзя. \n",
        "Посмотрим по перцентилям.\n"
      ]
    },
    {
      "cell_type": "markdown",
      "metadata": {
        "id": "VRs8MDXSq_ig"
      },
      "source": [
        "### 9. Посчитайте 95-й и 99-й перцентили стоимости заказов\n",
        "\n",
        "Выберите границу для определения аномальных пользователей."
      ]
    },
    {
      "cell_type": "code",
      "execution_count": null,
      "metadata": {
        "colab": {
          "base_uri": "https://localhost:8080/"
        },
        "id": "Qxj4ohh8pBOH",
        "outputId": "8abb79dc-cd95-4df4-9aa0-6364142bc471"
      },
      "outputs": [
        {
          "data": {
            "text/plain": [
              "array([26785., 53904.])"
            ]
          },
          "execution_count": 25,
          "metadata": {},
          "output_type": "execute_result"
        }
      ],
      "source": [
        "np.percentile(orders['revenue'], [95, 99])"
      ]
    },
    {
      "cell_type": "markdown",
      "metadata": {
        "id": "iUiPKr_EsAa-"
      },
      "source": [
        "Также отсечем 5% самых \"дорогих\" заказов и установим порог в 26 785."
      ]
    },
    {
      "cell_type": "markdown",
      "metadata": {
        "id": "ef_HQk8wv541"
      },
      "source": [
        "### 10.\tстатистическая значимость различий в конверсии между группами по «сырым» данным"
      ]
    },
    {
      "cell_type": "code",
      "execution_count": null,
      "metadata": {
        "colab": {
          "base_uri": "https://localhost:8080/",
          "height": 537
        },
        "id": "TasFPYK0yVcw",
        "outputId": "2d378352-8d2d-49d5-b379-d85680fb93e7"
      },
      "outputs": [
        {
          "data": {
            "text/html": [
              "<div>\n",
              "<style scoped>\n",
              "    .dataframe tbody tr th:only-of-type {\n",
              "        vertical-align: middle;\n",
              "    }\n",
              "\n",
              "    .dataframe tbody tr th {\n",
              "        vertical-align: top;\n",
              "    }\n",
              "\n",
              "    .dataframe thead th {\n",
              "        text-align: right;\n",
              "    }\n",
              "</style>\n",
              "<table border=\"1\" class=\"dataframe\">\n",
              "  <thead>\n",
              "    <tr style=\"text-align: right;\">\n",
              "      <th></th>\n",
              "      <th>date</th>\n",
              "      <th>ordersPerDateA</th>\n",
              "      <th>revenuePerDateA</th>\n",
              "      <th>ordersPerDateB</th>\n",
              "      <th>revenuePerDateB</th>\n",
              "      <th>ordersCummulativeA</th>\n",
              "      <th>revenueCummulativeA</th>\n",
              "      <th>ordersCummulativeB</th>\n",
              "      <th>revenueCummulativeB</th>\n",
              "      <th>visitorsPerDateA</th>\n",
              "      <th>visitorsPerDateB</th>\n",
              "      <th>visitorsCummulativeA</th>\n",
              "      <th>visitorsCummulativeB</th>\n",
              "    </tr>\n",
              "  </thead>\n",
              "  <tbody>\n",
              "    <tr>\n",
              "      <td>0</td>\n",
              "      <td>2019-08-01</td>\n",
              "      <td>19</td>\n",
              "      <td>142779</td>\n",
              "      <td>17</td>\n",
              "      <td>59758</td>\n",
              "      <td>19</td>\n",
              "      <td>142779</td>\n",
              "      <td>17</td>\n",
              "      <td>59758</td>\n",
              "      <td>719</td>\n",
              "      <td>713</td>\n",
              "      <td>719</td>\n",
              "      <td>713</td>\n",
              "    </tr>\n",
              "    <tr>\n",
              "      <td>1</td>\n",
              "      <td>2019-08-02</td>\n",
              "      <td>18</td>\n",
              "      <td>91602</td>\n",
              "      <td>22</td>\n",
              "      <td>162043</td>\n",
              "      <td>37</td>\n",
              "      <td>234381</td>\n",
              "      <td>39</td>\n",
              "      <td>221801</td>\n",
              "      <td>619</td>\n",
              "      <td>581</td>\n",
              "      <td>1338</td>\n",
              "      <td>1294</td>\n",
              "    </tr>\n",
              "    <tr>\n",
              "      <td>2</td>\n",
              "      <td>2019-08-03</td>\n",
              "      <td>24</td>\n",
              "      <td>112473</td>\n",
              "      <td>14</td>\n",
              "      <td>67049</td>\n",
              "      <td>61</td>\n",
              "      <td>346854</td>\n",
              "      <td>53</td>\n",
              "      <td>288850</td>\n",
              "      <td>507</td>\n",
              "      <td>509</td>\n",
              "      <td>1845</td>\n",
              "      <td>1803</td>\n",
              "    </tr>\n",
              "    <tr>\n",
              "      <td>3</td>\n",
              "      <td>2019-08-04</td>\n",
              "      <td>11</td>\n",
              "      <td>41176</td>\n",
              "      <td>13</td>\n",
              "      <td>96890</td>\n",
              "      <td>72</td>\n",
              "      <td>388030</td>\n",
              "      <td>66</td>\n",
              "      <td>385740</td>\n",
              "      <td>717</td>\n",
              "      <td>770</td>\n",
              "      <td>2562</td>\n",
              "      <td>2573</td>\n",
              "    </tr>\n",
              "    <tr>\n",
              "      <td>4</td>\n",
              "      <td>2019-08-05</td>\n",
              "      <td>22</td>\n",
              "      <td>86383</td>\n",
              "      <td>21</td>\n",
              "      <td>89908</td>\n",
              "      <td>94</td>\n",
              "      <td>474413</td>\n",
              "      <td>87</td>\n",
              "      <td>475648</td>\n",
              "      <td>756</td>\n",
              "      <td>707</td>\n",
              "      <td>3318</td>\n",
              "      <td>3280</td>\n",
              "    </tr>\n",
              "    <tr>\n",
              "      <td>5</td>\n",
              "      <td>2019-08-06</td>\n",
              "      <td>12</td>\n",
              "      <td>40919</td>\n",
              "      <td>22</td>\n",
              "      <td>214842</td>\n",
              "      <td>106</td>\n",
              "      <td>515332</td>\n",
              "      <td>109</td>\n",
              "      <td>690490</td>\n",
              "      <td>667</td>\n",
              "      <td>655</td>\n",
              "      <td>3985</td>\n",
              "      <td>3935</td>\n",
              "    </tr>\n",
              "    <tr>\n",
              "      <td>6</td>\n",
              "      <td>2019-08-07</td>\n",
              "      <td>16</td>\n",
              "      <td>123248</td>\n",
              "      <td>23</td>\n",
              "      <td>219164</td>\n",
              "      <td>122</td>\n",
              "      <td>638580</td>\n",
              "      <td>132</td>\n",
              "      <td>909654</td>\n",
              "      <td>644</td>\n",
              "      <td>709</td>\n",
              "      <td>4629</td>\n",
              "      <td>4644</td>\n",
              "    </tr>\n",
              "    <tr>\n",
              "      <td>7</td>\n",
              "      <td>2019-08-08</td>\n",
              "      <td>14</td>\n",
              "      <td>88639</td>\n",
              "      <td>22</td>\n",
              "      <td>150141</td>\n",
              "      <td>136</td>\n",
              "      <td>727219</td>\n",
              "      <td>154</td>\n",
              "      <td>1059795</td>\n",
              "      <td>610</td>\n",
              "      <td>654</td>\n",
              "      <td>5239</td>\n",
              "      <td>5298</td>\n",
              "    </tr>\n",
              "    <tr>\n",
              "      <td>8</td>\n",
              "      <td>2019-08-09</td>\n",
              "      <td>11</td>\n",
              "      <td>134237</td>\n",
              "      <td>19</td>\n",
              "      <td>103166</td>\n",
              "      <td>147</td>\n",
              "      <td>861456</td>\n",
              "      <td>173</td>\n",
              "      <td>1162961</td>\n",
              "      <td>617</td>\n",
              "      <td>610</td>\n",
              "      <td>5856</td>\n",
              "      <td>5908</td>\n",
              "    </tr>\n",
              "    <tr>\n",
              "      <td>9</td>\n",
              "      <td>2019-08-10</td>\n",
              "      <td>15</td>\n",
              "      <td>152275</td>\n",
              "      <td>22</td>\n",
              "      <td>105162</td>\n",
              "      <td>162</td>\n",
              "      <td>1013731</td>\n",
              "      <td>195</td>\n",
              "      <td>1268123</td>\n",
              "      <td>406</td>\n",
              "      <td>369</td>\n",
              "      <td>6262</td>\n",
              "      <td>6277</td>\n",
              "    </tr>\n",
              "  </tbody>\n",
              "</table>\n",
              "</div>"
            ],
            "text/plain": [
              "        date  ordersPerDateA  revenuePerDateA  ordersPerDateB  \\\n",
              "0 2019-08-01  19              142779           17               \n",
              "1 2019-08-02  18              91602            22               \n",
              "2 2019-08-03  24              112473           14               \n",
              "3 2019-08-04  11              41176            13               \n",
              "4 2019-08-05  22              86383            21               \n",
              "5 2019-08-06  12              40919            22               \n",
              "6 2019-08-07  16              123248           23               \n",
              "7 2019-08-08  14              88639            22               \n",
              "8 2019-08-09  11              134237           19               \n",
              "9 2019-08-10  15              152275           22               \n",
              "\n",
              "   revenuePerDateB  ordersCummulativeA  revenueCummulativeA  \\\n",
              "0  59758            19                  142779                \n",
              "1  162043           37                  234381                \n",
              "2  67049            61                  346854                \n",
              "3  96890            72                  388030                \n",
              "4  89908            94                  474413                \n",
              "5  214842           106                 515332                \n",
              "6  219164           122                 638580                \n",
              "7  150141           136                 727219                \n",
              "8  103166           147                 861456                \n",
              "9  105162           162                 1013731               \n",
              "\n",
              "   ordersCummulativeB  revenueCummulativeB  visitorsPerDateA  \\\n",
              "0  17                  59758                719                \n",
              "1  39                  221801               619                \n",
              "2  53                  288850               507                \n",
              "3  66                  385740               717                \n",
              "4  87                  475648               756                \n",
              "5  109                 690490               667                \n",
              "6  132                 909654               644                \n",
              "7  154                 1059795              610                \n",
              "8  173                 1162961              617                \n",
              "9  195                 1268123              406                \n",
              "\n",
              "   visitorsPerDateB  visitorsCummulativeA  visitorsCummulativeB  \n",
              "0  713               719                   713                   \n",
              "1  581               1338                  1294                  \n",
              "2  509               1845                  1803                  \n",
              "3  770               2562                  2573                  \n",
              "4  707               3318                  3280                  \n",
              "5  655               3985                  3935                  \n",
              "6  709               4629                  4644                  \n",
              "7  654               5239                  5298                  \n",
              "8  610               5856                  5908                  \n",
              "9  369               6262                  6277                  "
            ]
          },
          "metadata": {},
          "output_type": "display_data"
        }
      ],
      "source": [
        "# посетителей из группы А\n",
        "visitorsADaily = visitors[visitors['group'] == 'A'][['date', 'visitors']]\n",
        "visitorsADaily.columns = ['date', 'visitorsPerDateA']\n",
        "\n",
        "# количество пользователей до выбранной даты включительно в группе A\n",
        "visitorsACummulative = visitorsADaily.apply(\n",
        "    lambda x: visitorsADaily[visitorsADaily['date'] <= x['date']].agg(\n",
        "        {'date': 'max', 'visitorsPerDateA': 'sum'}\n",
        "    ),\n",
        "    axis=1,\n",
        ")\n",
        "visitorsACummulative.columns = ['date', 'visitorsCummulativeA']\n",
        "\n",
        "# посетителей из группы В\n",
        "visitorsBDaily = visitors[visitors['group'] == 'B'][['date', 'visitors']]\n",
        "visitorsBDaily.columns = ['date', 'visitorsPerDateB']\n",
        "\n",
        "# количество пользователей до выбранной даты включительно в группе B\n",
        "visitorsBCummulative = visitorsBDaily.apply(\n",
        "    lambda x: visitorsBDaily[visitorsBDaily['date'] <= x['date']].agg(\n",
        "        {'date': 'max', 'visitorsPerDateB': 'sum'}\n",
        "    ),\n",
        "    axis=1,\n",
        ")\n",
        "visitorsBCummulative.columns = ['date', 'visitorsCummulativeB']\n",
        "\n",
        "# количество уникальных пользователей и выручка по группе А по дням\n",
        "ordersADaily = (\n",
        "    orders[orders['group'] == 'A'][['date', 'transactionId', 'visitorId', 'revenue']]\n",
        "    .groupby('date', as_index=False)\n",
        "    .agg({'visitorId': pd.Series.nunique, 'revenue': 'sum'})\n",
        ")\n",
        "ordersADaily.columns = ['date', 'ordersPerDateA', 'revenuePerDateA']\n",
        "\n",
        "# суммарная выручка в выбранную дату в группе A\n",
        "ordersACummulative = ordersADaily.apply(\n",
        "    lambda x: ordersADaily[ordersADaily['date'] <= x['date']].agg(\n",
        "        {'date': 'max', 'ordersPerDateA': 'sum', 'revenuePerDateA': 'sum'}\n",
        "    ),\n",
        "    axis=1,\n",
        ").sort_values(by=['date'])\n",
        "ordersACummulative.columns = [\n",
        "    'date',\n",
        "    'ordersCummulativeA',\n",
        "    'revenueCummulativeA',\n",
        "]\n",
        "\n",
        "# количество уникальных пользователей и выручка по группе В по дням\n",
        "ordersBDaily = (\n",
        "    orders[orders['group'] == 'B'][['date', 'transactionId', 'visitorId', 'revenue']]\n",
        "    .groupby('date', as_index=False)\n",
        "    .agg({'visitorId': pd.Series.nunique, 'revenue': 'sum'})\n",
        ")\n",
        "ordersBDaily.columns = ['date', 'ordersPerDateB', 'revenuePerDateB']\n",
        "\n",
        "# суммарная выручка в выбранную дату в группе B\n",
        "ordersBCummulative = ordersBDaily.apply(\n",
        "    lambda x: ordersBDaily[ordersBDaily['date'] <= x['date']].agg(\n",
        "        {'date': 'max', 'ordersPerDateB': 'sum', 'revenuePerDateB': 'sum'}\n",
        "    ),\n",
        "    axis=1,\n",
        ").sort_values(by=['date'])\n",
        "ordersBCummulative.columns = [\n",
        "    'date',\n",
        "    'ordersCummulativeB',\n",
        "    'revenueCummulativeB',\n",
        "]\n",
        "\n",
        "\n",
        "# объединяем все в один датафрейм data\n",
        "data = (\n",
        "    ordersADaily.merge(\n",
        "        ordersBDaily, left_on='date', right_on='date', how='left'\n",
        "    )\n",
        "    .merge(ordersACummulative, left_on='date', right_on='date', how='left')\n",
        "    .merge(ordersBCummulative, left_on='date', right_on='date', how='left')\n",
        "    .merge(visitorsADaily, left_on='date', right_on='date', how='left')\n",
        "    .merge(visitorsBDaily, left_on='date', right_on='date', how='left')\n",
        "    .merge(visitorsACummulative, left_on='date', right_on='date', how='left')\n",
        "    .merge(visitorsBCummulative, left_on='date', right_on='date', how='left')\n",
        ")\n",
        "display(data.head(10))"
      ]
    },
    {
      "cell_type": "code",
      "execution_count": null,
      "metadata": {
        "id": "sS_YdoxDryQ9"
      },
      "outputs": [],
      "source": [
        "#определим кол-во заказов для пользователей из исследуемых групп\n",
        "\n",
        "ordersByUsersA = (\n",
        "    orders[orders['group'] == 'A']\n",
        "    .groupby('visitorId', as_index=False)\n",
        "    .agg({'transactionId': pd.Series.nunique})\n",
        ")\n",
        "ordersByUsersA.columns = ['userId', 'orders']\n",
        "\n",
        "ordersByUsersB = (\n",
        "    orders[orders['group'] == 'B']\n",
        "    .groupby('visitorId', as_index=False)\n",
        "    .agg({'transactionId': pd.Series.nunique})\n",
        ")\n",
        "ordersByUsersB.columns = ['userId', 'orders']"
      ]
    },
    {
      "cell_type": "code",
      "execution_count": null,
      "metadata": {
        "id": "pCQQMmtQx4Yf"
      },
      "outputs": [],
      "source": [
        "# не забудем про пользователей, которые не заказали ничего\n",
        "# sampleA/B = клиенты из каждой группы + пользователи без заказов\n",
        "\n",
        "sampleA = pd.concat([ordersByUsersA['orders'],\n",
        "                     pd.Series(0, index=np.arange(data['visitorsPerDateA'].sum() - len(ordersByUsersA['orders'])),name='orders')],axis=0)\n",
        "\n",
        "sampleB = pd.concat([ordersByUsersB['orders'],\n",
        "                     pd.Series(0, index=np.arange(data['visitorsPerDateB'].sum() - len(ordersByUsersB['orders'])), name='orders')],axis=0)\n"
      ]
    },
    {
      "cell_type": "markdown",
      "metadata": {
        "id": "aLzCa8V2LoTL"
      },
      "source": [
        "* Нулевая гипотеза: конверсии групп А и В сопоставимы\n",
        "* Обратная гипотеза: между конверсиями групп А и В существует статистически значимое различие."
      ]
    },
    {
      "cell_type": "code",
      "execution_count": null,
      "metadata": {
        "colab": {
          "base_uri": "https://localhost:8080/"
        },
        "id": "DOAR9GLG3Y9w",
        "outputId": "59a41b00-c49d-46c3-b43b-827635cae872"
      },
      "outputs": [
        {
          "name": "stdout",
          "output_type": "stream",
          "text": [
            "Статистическая значимость различий в конверсии между группами (тест Манна-Уитни): p-value = 0.011\n",
            "Отвергаем нулевую гипотезу: между конверсиями групп А и В существует статистически значимое различие\n",
            "Относительный прирост конверсии группы B: 16.0%\n"
          ]
        }
      ],
      "source": [
        "alpha = 0.05 # критический уровень статистической значимости\n",
        "# если p-value окажется меньше него - отвергнем гипотезу\n",
        "\n",
        "print('Статистическая значимость различий в конверсии между группами (тест Манна-Уитни): p-value = {0:.3f}'. \n",
        "      format(stats.mannwhitneyu(sampleA, sampleB, alternative = 'two-sided')[1]))\n",
        "\n",
        "if stats.mannwhitneyu(sampleA, sampleB, alternative = 'two-sided')[1] < alpha:\n",
        "    print('Отвергаем нулевую гипотезу: между конверсиями групп А и В существует статистически значимое различие')\n",
        "else:\n",
        "    print('Нулевая гипотеза верна: конверсии групп А и В сопоставимы') \n",
        "\n",
        "# Чтобы получить конверсию в группе, поделим сумму заказов на число пользователей — найдём среднее в выборках sample\n",
        "print(\"Относительный прирост конверсии группы B: {0:.1%}\".format(sampleB.mean() / sampleA.mean() - 1))"
      ]
    },
    {
      "cell_type": "markdown",
      "metadata": {
        "id": "WZDkADyGBpzy"
      },
      "source": [
        "### 11. статистическая значимость различий в среднем чеке заказа между группами по «сырым» данным"
      ]
    },
    {
      "cell_type": "markdown",
      "metadata": {
        "id": "Ns3v-0ttLoTM"
      },
      "source": [
        "* Нулевая гипотеза: средние чеки групп А и В сопоставимы\n",
        "* Обратная гипотеза: различие между размером среднего чека групп А и В статистически значимо"
      ]
    },
    {
      "cell_type": "code",
      "execution_count": null,
      "metadata": {
        "colab": {
          "base_uri": "https://localhost:8080/"
        },
        "id": "v1OtrTeM69lO",
        "outputId": "592178a0-d514-4b39-aff2-f52df1528a27"
      },
      "outputs": [
        {
          "name": "stdout",
          "output_type": "stream",
          "text": [
            "Статистическая значимость различий в среднем чеке заказа между группами (тест Манна-Уитни): p-value = 0.829\n",
            "Нулевая гипотеза верна: средние чеки групп А и В сопоставимы\n",
            "Относительный прирост среднего чека группы B: 28.7%\n"
          ]
        }
      ],
      "source": [
        "\n",
        "print('Статистическая значимость различий в среднем чеке заказа между группами (тест Манна-Уитни): p-value = {0:.3f}'. format(\n",
        "      stats.mannwhitneyu(orders[orders['group']=='A']['revenue'], orders[orders['group']=='B']['revenue'], \n",
        "                         alternative = 'two-sided')[1]))\n",
        "\n",
        "if stats.mannwhitneyu(orders[orders['group']=='A']['revenue'], orders[orders['group']=='B']['revenue'], \n",
        "                      alternative = 'two-sided')[1] < alpha:\n",
        "    print('Отвергаем нулевую гипотезу: различие между размером среднего чека групп А и В статистически значимо')\n",
        "else:\n",
        "    print('Нулевая гипотеза верна: средние чеки групп А и В сопоставимы') \n",
        "\n",
        "print('Относительный прирост среднего чека группы B: {0:.1%}'.format(\n",
        "    orders[orders['group']=='B']['revenue'].mean()/orders[orders['group']=='A']['revenue'].mean()-1))"
      ]
    },
    {
      "cell_type": "markdown",
      "metadata": {
        "id": "6XBaYVSyDupo"
      },
      "source": [
        "### 12. статистическая значимость различий в конверсии между группами по «очищенным» данным\n"
      ]
    },
    {
      "cell_type": "code",
      "execution_count": null,
      "metadata": {
        "id": "2lIW23uNCutj"
      },
      "outputs": [],
      "source": [
        "# очень автивные пользователи\n",
        "usersWithManyOrders = pd.concat(\n",
        "    [\n",
        "        ordersByUsersA[ordersByUsersA['orders'] > 2]['userId'],\n",
        "        ordersByUsersB[ordersByUsersB['orders'] > 2]['userId'],\n",
        "    ],\n",
        "    axis=0,\n",
        ")\n",
        "# пользователи с большими чеками в истории заказов\n",
        "usersWithExpensiveOrders = orders[orders['revenue'] > 26785]['visitorId']\n",
        "abnormalUsers = (\n",
        "    pd.concat([usersWithManyOrders, usersWithExpensiveOrders], axis=0)\n",
        "    .drop_duplicates()\n",
        "    .sort_values()\n",
        ")"
      ]
    },
    {
      "cell_type": "code",
      "execution_count": null,
      "metadata": {
        "id": "U6lHB-MdEb5x"
      },
      "outputs": [],
      "source": [
        "# в sampleAFiltered и sampleBFiltered будут лежать очищенные данные о заказах — не включая аномальных пользователей\n",
        "\n",
        "sampleAFiltered = pd.concat(\n",
        "    [\n",
        "        ordersByUsersA[\n",
        "            np.logical_not(ordersByUsersA['userId'].isin(abnormalUsers))\n",
        "        ]['orders'],\n",
        "        pd.Series(\n",
        "            0,\n",
        "            index=np.arange(\n",
        "                data['visitorsPerDateA'].sum() - len(ordersByUsersA['orders'])\n",
        "            ),\n",
        "            name='orders',\n",
        "        ),\n",
        "    ],\n",
        "    axis=0,\n",
        ")\n",
        "\n",
        "sampleBFiltered = pd.concat(\n",
        "    [\n",
        "        ordersByUsersB[\n",
        "            np.logical_not(ordersByUsersB['userId'].isin(abnormalUsers))\n",
        "        ]['orders'],\n",
        "        pd.Series(\n",
        "            0,\n",
        "            index=np.arange(\n",
        "                data['visitorsPerDateB'].sum() - len(ordersByUsersB['orders'])\n",
        "            ),\n",
        "            name='orders',\n",
        "        ),\n",
        "    ],\n",
        "    axis=0,\n",
        ")"
      ]
    },
    {
      "cell_type": "markdown",
      "metadata": {
        "id": "_YGsbtKTLoTP"
      },
      "source": [
        "* Нулевая гипотеза: конверсии групп А и В сопоставимы\n",
        "* Обратная гипотеза: между конверсиями групп А и В существует статистически значимое различие."
      ]
    },
    {
      "cell_type": "code",
      "execution_count": null,
      "metadata": {
        "colab": {
          "base_uri": "https://localhost:8080/"
        },
        "id": "pT1vahHPFE4D",
        "outputId": "04c38806-c81e-4299-9537-1e71706316be"
      },
      "outputs": [
        {
          "name": "stdout",
          "output_type": "stream",
          "text": [
            "Статистическая значимость различий в конверсии между группами по очищенным данным (тест Манна-Уитни): p-value = 0.012\n",
            "Отвергаем нулевую гипотезу: между конверсиями групп А и В существует статистически значимое различие\n",
            "Относительное различие в конверсии между группами по очищенным данным: 18.2%\n"
          ]
        }
      ],
      "source": [
        "print('Статистическая значимость различий в конверсии между группами по очищенным данным (тест Манна-Уитни): p-value = {0:.3f}'.format(\n",
        "      stats.mannwhitneyu(sampleAFiltered, sampleBFiltered, alternative = 'two-sided')[1]))\n",
        "\n",
        "if stats.mannwhitneyu(sampleAFiltered, sampleBFiltered)[1] < alpha:\n",
        "    print('Отвергаем нулевую гипотезу: между конверсиями групп А и В существует статистически значимое различие')\n",
        "else:\n",
        "    print('Нулевая гипотеза верна: конверсии групп А и В сопоставимы') \n",
        "\n",
        "print('Относительное различие в конверсии между группами по очищенным данным: {0:.1%}'.format(\n",
        "    sampleBFiltered.mean()/sampleAFiltered.mean()-1))"
      ]
    },
    {
      "cell_type": "markdown",
      "metadata": {
        "id": "u1X_smTYF_ZZ"
      },
      "source": [
        "Нулевая гипотеза все также отвергнута. Статистическая значимость отличий выборок подтверждена на очищенных данных. А отличие группы В стало еще весомее: +18.9%"
      ]
    },
    {
      "cell_type": "markdown",
      "metadata": {
        "id": "uKrS0JU-GobV"
      },
      "source": [
        "### 13. статистическая значимость различий в среднем чеке заказа между группами по «очищенным» данным"
      ]
    },
    {
      "cell_type": "markdown",
      "metadata": {
        "id": "7uzQ8qqlLoTR"
      },
      "source": [
        "* Нулевая гипотеза: средние чеки групп А и В сопоставимы\n",
        "* Обратная гипотеза: различие между размером среднего чека групп А и В статистически значимо"
      ]
    },
    {
      "cell_type": "code",
      "execution_count": null,
      "metadata": {
        "colab": {
          "base_uri": "https://localhost:8080/"
        },
        "id": "P_21lAnAF67e",
        "outputId": "43ae16aa-d361-4c27-9984-d13e5e0584c9"
      },
      "outputs": [
        {
          "name": "stdout",
          "output_type": "stream",
          "text": [
            "Статистическая значимость различий в среднем чеке заказа между группами по очищенным данным (тест Манна-Уитни): p-value =  0.646\n",
            "Нулевая гипотеза верна: средние чеки групп А и В по очищенным данным сопоставимы\n",
            "Относительный прирост среднего чека группы B (по очищенным данным): -4.8%\n"
          ]
        }
      ],
      "source": [
        "result_receipt = stats.mannwhitneyu(\n",
        "            orders[\n",
        "                np.logical_and(\n",
        "                    orders['group'] == 'A',\n",
        "                    np.logical_not(orders['visitorId'].isin(abnormalUsers)),\n",
        "                )\n",
        "            ]['revenue'],\n",
        "            orders[\n",
        "                np.logical_and(\n",
        "                    orders['group'] == 'B',\n",
        "                    np.logical_not(orders['visitorId'].isin(abnormalUsers)),\n",
        "                )\n",
        "            ]['revenue'], alternative = 'two-sided',\n",
        "        )[1]\n",
        "\n",
        "print('Статистическая значимость различий в среднем чеке заказа между группами по очищенным данным (тест Манна-Уитни): p-value =  {0:.3f}'.\n",
        "      format(result_receipt))\n",
        "\n",
        "\n",
        "if result_receipt < 0.01:\n",
        "    print('Отвергаем нулевую гипотезу: различие между размером среднего чека групп А и В по очищенным данным статистически значимо')\n",
        "else:\n",
        "    print('Нулевая гипотеза верна: средние чеки групп А и В по очищенным данным сопоставимы') \n",
        "\n",
        "print('Относительный прирост среднего чека группы B (по очищенным данным): {0:.1%}'.format(\n",
        "        orders[\n",
        "            np.logical_and(\n",
        "                orders['group'] == 'B',\n",
        "                np.logical_not(orders['visitorId'].isin(abnormalUsers)),\n",
        "            )\n",
        "        ]['revenue'].mean()\n",
        "        / orders[\n",
        "            np.logical_and(\n",
        "                orders['group'] == 'A',\n",
        "                np.logical_not(orders['visitorId'].isin(abnormalUsers)),\n",
        "            )\n",
        "        ]['revenue'].mean()\n",
        "        - 1\n",
        "    )\n",
        ")"
      ]
    },
    {
      "cell_type": "markdown",
      "metadata": {
        "id": "aoGnKD2LIjvh"
      },
      "source": [
        "После удаления слишком больших, во всех смыслах, заказов, статистическая значимость в чеках между группами также не обнаружено, а средний чек в группе В стал ниже, чем в А на 4.8%. "
      ]
    },
    {
      "cell_type": "markdown",
      "metadata": {
        "id": "oD3jc76pJDsG"
      },
      "source": [
        "**ВЫВОД**\n",
        "\n",
        "**Приоретизация гипотез**\n",
        "\n",
        "Наиболее перспективными можно назвать гипотезы: \n",
        "\n",
        "    \"Добавить форму подписки на все основные страницы, чтобы собрать базу клиентов для email-рассылок\"\t\n",
        "    \"Добавить два новых канала привлечения трафика, что позволит привлекать на 30% больше пользователей\". \n",
        "\n",
        "Данные гипотезы были высоко оценены по всем параметрам сравнения: охват, влияние на потребителя, уверенность в результате проводимых преобразований, простота проверки и стали лидерами по двум моделям приоретизации (ICE и RICE). \n",
        "\n",
        "\n",
        "**Анализ A/B-теста**\n",
        "\n",
        "Перед проведением анализа данные теста были предобработаны:\n",
        "\n",
        "- в данных отсутствуют пропуски, проверены и исправлены типы данных\n",
        "- удалена информация о пользователях, попавших в обе исследуемые группы\n",
        "\n",
        "Анализ результатов проведен на всем массиве данных и данных, очищенных от выбросов:\n",
        "\n",
        "- не учитывались очень большие заказы с чеком свыше 26 785 рублей (5% наблюдений с крайними значениями)\n",
        "- совершение более 2 заказов одним пользователем (1% наблюдений с крайними значениями)\n",
        "\n",
        "Изменение конверсии между группами оказалось статистически значимым, относительный прирост в группе В составил +16% на \"сырых\"данных и +18.2% на \"очищенных\". То есть, в группе В посетители становились клиентами чаще, что является важной метрикой для бизнеса. И кажется, результат произведенных изменений хороший.\n",
        "\n",
        "Статистически значимой разницы в среднем чеке между группами не обраружено, а относительное изменение в группе В после очистки данных от выбросов составило -4.8%. С другой стороны, пусть клиенты и стали покупать чуточку меньше, но стали это делать чаще!\n",
        "\n",
        "Таким образом, считаю, что тест можно остановить и зафиксировать победу группы В."
      ]
    }
  ],
  "metadata": {
    "ExecuteTimeLog": [
      {
        "duration": 1038,
        "start_time": "2021-09-29T19:15:36.156Z"
      },
      {
        "duration": 2686,
        "start_time": "2021-09-29T19:15:37.196Z"
      },
      {
        "duration": 332,
        "start_time": "2021-09-29T19:15:39.884Z"
      },
      {
        "duration": -12,
        "start_time": "2021-09-29T19:15:40.231Z"
      },
      {
        "duration": -13,
        "start_time": "2021-09-29T19:15:40.233Z"
      },
      {
        "duration": -15,
        "start_time": "2021-09-29T19:15:40.236Z"
      },
      {
        "duration": -16,
        "start_time": "2021-09-29T19:15:40.238Z"
      },
      {
        "duration": -19,
        "start_time": "2021-09-29T19:15:40.241Z"
      },
      {
        "duration": -20,
        "start_time": "2021-09-29T19:15:40.243Z"
      },
      {
        "duration": -22,
        "start_time": "2021-09-29T19:15:40.246Z"
      },
      {
        "duration": -23,
        "start_time": "2021-09-29T19:15:40.248Z"
      },
      {
        "duration": -26,
        "start_time": "2021-09-29T19:15:40.251Z"
      },
      {
        "duration": -29,
        "start_time": "2021-09-29T19:15:40.255Z"
      },
      {
        "duration": -31,
        "start_time": "2021-09-29T19:15:40.258Z"
      },
      {
        "duration": -32,
        "start_time": "2021-09-29T19:15:40.260Z"
      },
      {
        "duration": -33,
        "start_time": "2021-09-29T19:15:40.262Z"
      },
      {
        "duration": -34,
        "start_time": "2021-09-29T19:15:40.264Z"
      },
      {
        "duration": -36,
        "start_time": "2021-09-29T19:15:40.267Z"
      },
      {
        "duration": -37,
        "start_time": "2021-09-29T19:15:40.269Z"
      },
      {
        "duration": -39,
        "start_time": "2021-09-29T19:15:40.271Z"
      },
      {
        "duration": -41,
        "start_time": "2021-09-29T19:15:40.274Z"
      },
      {
        "duration": -42,
        "start_time": "2021-09-29T19:15:40.276Z"
      },
      {
        "duration": -44,
        "start_time": "2021-09-29T19:15:40.278Z"
      },
      {
        "duration": -45,
        "start_time": "2021-09-29T19:15:40.280Z"
      },
      {
        "duration": -46,
        "start_time": "2021-09-29T19:15:40.282Z"
      },
      {
        "duration": -48,
        "start_time": "2021-09-29T19:15:40.285Z"
      },
      {
        "duration": -49,
        "start_time": "2021-09-29T19:15:40.287Z"
      },
      {
        "duration": -51,
        "start_time": "2021-09-29T19:15:40.290Z"
      },
      {
        "duration": -53,
        "start_time": "2021-09-29T19:15:40.293Z"
      },
      {
        "duration": -56,
        "start_time": "2021-09-29T19:15:40.297Z"
      },
      {
        "duration": 1008,
        "start_time": "2021-09-30T04:45:57.510Z"
      },
      {
        "duration": 2712,
        "start_time": "2021-09-30T04:45:58.520Z"
      },
      {
        "duration": 331,
        "start_time": "2021-09-30T04:46:01.234Z"
      },
      {
        "duration": -178,
        "start_time": "2021-09-30T04:46:01.746Z"
      },
      {
        "duration": -201,
        "start_time": "2021-09-30T04:46:01.770Z"
      },
      {
        "duration": -206,
        "start_time": "2021-09-30T04:46:01.776Z"
      },
      {
        "duration": -212,
        "start_time": "2021-09-30T04:46:01.783Z"
      },
      {
        "duration": -229,
        "start_time": "2021-09-30T04:46:01.801Z"
      },
      {
        "duration": -248,
        "start_time": "2021-09-30T04:46:01.821Z"
      },
      {
        "duration": -267,
        "start_time": "2021-09-30T04:46:01.841Z"
      },
      {
        "duration": -277,
        "start_time": "2021-09-30T04:46:01.851Z"
      },
      {
        "duration": -280,
        "start_time": "2021-09-30T04:46:01.855Z"
      },
      {
        "duration": -283,
        "start_time": "2021-09-30T04:46:01.859Z"
      },
      {
        "duration": -289,
        "start_time": "2021-09-30T04:46:01.866Z"
      },
      {
        "duration": -309,
        "start_time": "2021-09-30T04:46:01.887Z"
      },
      {
        "duration": -312,
        "start_time": "2021-09-30T04:46:01.891Z"
      },
      {
        "duration": -315,
        "start_time": "2021-09-30T04:46:01.895Z"
      },
      {
        "duration": -321,
        "start_time": "2021-09-30T04:46:01.902Z"
      },
      {
        "duration": -337,
        "start_time": "2021-09-30T04:46:01.919Z"
      },
      {
        "duration": -340,
        "start_time": "2021-09-30T04:46:01.923Z"
      },
      {
        "duration": -342,
        "start_time": "2021-09-30T04:46:01.926Z"
      },
      {
        "duration": -349,
        "start_time": "2021-09-30T04:46:01.934Z"
      },
      {
        "duration": -353,
        "start_time": "2021-09-30T04:46:01.939Z"
      },
      {
        "duration": -356,
        "start_time": "2021-09-30T04:46:01.943Z"
      },
      {
        "duration": -361,
        "start_time": "2021-09-30T04:46:01.949Z"
      },
      {
        "duration": -383,
        "start_time": "2021-09-30T04:46:01.972Z"
      },
      {
        "duration": -397,
        "start_time": "2021-09-30T04:46:01.986Z"
      },
      {
        "duration": -401,
        "start_time": "2021-09-30T04:46:01.991Z"
      },
      {
        "duration": -404,
        "start_time": "2021-09-30T04:46:01.995Z"
      },
      {
        "duration": -410,
        "start_time": "2021-09-30T04:46:02.002Z"
      },
      {
        "duration": 11,
        "start_time": "2021-09-30T04:48:05.143Z"
      },
      {
        "duration": 1019,
        "start_time": "2021-09-30T04:48:39.197Z"
      },
      {
        "duration": 2414,
        "start_time": "2021-09-30T04:48:40.219Z"
      },
      {
        "duration": 17,
        "start_time": "2021-09-30T04:48:42.635Z"
      },
      {
        "duration": 16,
        "start_time": "2021-09-30T04:48:42.654Z"
      },
      {
        "duration": 12,
        "start_time": "2021-09-30T04:48:42.671Z"
      },
      {
        "duration": 27,
        "start_time": "2021-09-30T04:48:42.684Z"
      },
      {
        "duration": 7,
        "start_time": "2021-09-30T04:48:42.712Z"
      },
      {
        "duration": 247,
        "start_time": "2021-09-30T04:48:42.722Z"
      },
      {
        "duration": 183,
        "start_time": "2021-09-30T04:48:42.972Z"
      },
      {
        "duration": 16,
        "start_time": "2021-09-30T04:48:43.157Z"
      },
      {
        "duration": 8,
        "start_time": "2021-09-30T04:48:43.175Z"
      },
      {
        "duration": 279,
        "start_time": "2021-09-30T04:48:43.185Z"
      },
      {
        "duration": 248,
        "start_time": "2021-09-30T04:48:43.466Z"
      },
      {
        "duration": 403,
        "start_time": "2021-09-30T04:48:43.715Z"
      },
      {
        "duration": 263,
        "start_time": "2021-09-30T04:48:44.120Z"
      },
      {
        "duration": 343,
        "start_time": "2021-09-30T04:48:44.385Z"
      },
      {
        "duration": 134,
        "start_time": "2021-09-30T04:48:44.730Z"
      },
      {
        "duration": 344,
        "start_time": "2021-09-30T04:48:44.866Z"
      },
      {
        "duration": 6,
        "start_time": "2021-09-30T04:48:45.212Z"
      },
      {
        "duration": 411,
        "start_time": "2021-09-30T04:48:45.220Z"
      },
      {
        "duration": 6,
        "start_time": "2021-09-30T04:48:45.634Z"
      },
      {
        "duration": 278,
        "start_time": "2021-09-30T04:48:45.655Z"
      },
      {
        "duration": 120,
        "start_time": "2021-09-30T04:48:45.936Z"
      },
      {
        "duration": 9,
        "start_time": "2021-09-30T04:48:46.058Z"
      },
      {
        "duration": 13,
        "start_time": "2021-09-30T04:48:46.068Z"
      },
      {
        "duration": 9,
        "start_time": "2021-09-30T04:48:46.083Z"
      },
      {
        "duration": 8,
        "start_time": "2021-09-30T04:48:46.093Z"
      },
      {
        "duration": 11,
        "start_time": "2021-09-30T04:48:46.103Z"
      },
      {
        "duration": 8,
        "start_time": "2021-09-30T04:48:46.116Z"
      },
      {
        "duration": 46,
        "start_time": "2021-09-30T04:48:46.126Z"
      },
      {
        "duration": 9,
        "start_time": "2021-09-30T07:32:46.503Z"
      },
      {
        "duration": 10,
        "start_time": "2021-09-30T07:32:58.361Z"
      },
      {
        "duration": 109,
        "start_time": "2021-09-30T07:41:40.291Z"
      },
      {
        "duration": 108,
        "start_time": "2021-09-30T07:42:01.474Z"
      },
      {
        "duration": 129,
        "start_time": "2021-09-30T07:42:11.978Z"
      },
      {
        "duration": 453,
        "start_time": "2021-09-30T07:45:28.796Z"
      },
      {
        "duration": 350,
        "start_time": "2021-09-30T07:45:46.020Z"
      },
      {
        "duration": 143,
        "start_time": "2021-09-30T07:46:02.248Z"
      },
      {
        "duration": 106,
        "start_time": "2021-09-30T07:46:24.517Z"
      },
      {
        "duration": 127,
        "start_time": "2021-09-30T07:46:36.730Z"
      },
      {
        "duration": 9,
        "start_time": "2021-09-30T07:47:04.360Z"
      },
      {
        "duration": 120,
        "start_time": "2021-09-30T07:47:33.394Z"
      },
      {
        "duration": 76,
        "start_time": "2021-09-30T07:48:27.886Z"
      },
      {
        "duration": 10,
        "start_time": "2021-09-30T07:48:32.261Z"
      },
      {
        "duration": 117,
        "start_time": "2021-09-30T07:49:38.815Z"
      },
      {
        "duration": 123,
        "start_time": "2021-09-30T07:49:42.132Z"
      },
      {
        "duration": 123,
        "start_time": "2021-09-30T07:49:45.601Z"
      },
      {
        "duration": 207,
        "start_time": "2021-10-01T17:14:53.930Z"
      },
      {
        "duration": 1001,
        "start_time": "2021-10-01T17:15:18.744Z"
      },
      {
        "duration": 2791,
        "start_time": "2021-10-01T17:15:19.747Z"
      },
      {
        "duration": 12,
        "start_time": "2021-10-01T17:15:22.540Z"
      },
      {
        "duration": 11,
        "start_time": "2021-10-01T17:15:22.554Z"
      },
      {
        "duration": 11,
        "start_time": "2021-10-01T17:15:22.566Z"
      },
      {
        "duration": 24,
        "start_time": "2021-10-01T17:15:22.579Z"
      },
      {
        "duration": 8,
        "start_time": "2021-10-01T17:15:22.604Z"
      },
      {
        "duration": 16,
        "start_time": "2021-10-01T17:15:22.615Z"
      },
      {
        "duration": 131,
        "start_time": "2021-10-01T17:15:22.633Z"
      },
      {
        "duration": 9,
        "start_time": "2021-10-01T17:15:22.766Z"
      },
      {
        "duration": 215,
        "start_time": "2021-10-01T17:15:22.776Z"
      },
      {
        "duration": 172,
        "start_time": "2021-10-01T17:15:22.992Z"
      },
      {
        "duration": 13,
        "start_time": "2021-10-01T17:15:23.165Z"
      },
      {
        "duration": 22,
        "start_time": "2021-10-01T17:15:23.179Z"
      },
      {
        "duration": 263,
        "start_time": "2021-10-01T17:15:23.203Z"
      },
      {
        "duration": 243,
        "start_time": "2021-10-01T17:15:23.468Z"
      },
      {
        "duration": 362,
        "start_time": "2021-10-01T17:15:23.712Z"
      },
      {
        "duration": 257,
        "start_time": "2021-10-01T17:15:24.076Z"
      },
      {
        "duration": 346,
        "start_time": "2021-10-01T17:15:24.335Z"
      },
      {
        "duration": 123,
        "start_time": "2021-10-01T17:15:24.683Z"
      },
      {
        "duration": 354,
        "start_time": "2021-10-01T17:15:24.808Z"
      },
      {
        "duration": 5,
        "start_time": "2021-10-01T17:15:25.163Z"
      },
      {
        "duration": 391,
        "start_time": "2021-10-01T17:15:25.171Z"
      },
      {
        "duration": 4,
        "start_time": "2021-10-01T17:15:25.564Z"
      },
      {
        "duration": 283,
        "start_time": "2021-10-01T17:15:25.570Z"
      },
      {
        "duration": 118,
        "start_time": "2021-10-01T17:15:25.854Z"
      },
      {
        "duration": 6,
        "start_time": "2021-10-01T17:15:25.973Z"
      },
      {
        "duration": 23,
        "start_time": "2021-10-01T17:15:25.981Z"
      },
      {
        "duration": 10,
        "start_time": "2021-10-01T17:15:26.005Z"
      },
      {
        "duration": 8,
        "start_time": "2021-10-01T17:15:26.017Z"
      },
      {
        "duration": 25,
        "start_time": "2021-10-01T17:15:26.026Z"
      },
      {
        "duration": 17,
        "start_time": "2021-10-01T17:15:26.053Z"
      },
      {
        "duration": 14,
        "start_time": "2021-10-01T17:15:26.071Z"
      },
      {
        "duration": 146,
        "start_time": "2021-10-01T17:16:16.510Z"
      },
      {
        "duration": 4,
        "start_time": "2021-10-01T17:17:29.046Z"
      },
      {
        "duration": 5,
        "start_time": "2021-10-01T17:19:57.712Z"
      },
      {
        "duration": 6,
        "start_time": "2021-10-01T17:21:46.963Z"
      },
      {
        "duration": 126,
        "start_time": "2021-10-01T17:22:08.186Z"
      },
      {
        "duration": 113,
        "start_time": "2021-10-01T17:23:25.106Z"
      },
      {
        "duration": 109,
        "start_time": "2021-10-01T17:23:48.945Z"
      },
      {
        "duration": 107,
        "start_time": "2021-10-01T17:24:16.230Z"
      },
      {
        "duration": 989,
        "start_time": "2021-10-01T17:24:39.118Z"
      },
      {
        "duration": 2593,
        "start_time": "2021-10-01T17:24:40.109Z"
      },
      {
        "duration": 12,
        "start_time": "2021-10-01T17:24:42.704Z"
      },
      {
        "duration": 12,
        "start_time": "2021-10-01T17:24:42.717Z"
      },
      {
        "duration": 10,
        "start_time": "2021-10-01T17:24:42.730Z"
      },
      {
        "duration": 20,
        "start_time": "2021-10-01T17:24:42.741Z"
      },
      {
        "duration": 38,
        "start_time": "2021-10-01T17:24:42.763Z"
      },
      {
        "duration": 119,
        "start_time": "2021-10-01T17:24:42.804Z"
      },
      {
        "duration": 4,
        "start_time": "2021-10-01T17:24:42.925Z"
      },
      {
        "duration": 122,
        "start_time": "2021-10-01T17:24:42.930Z"
      },
      {
        "duration": 204,
        "start_time": "2021-10-01T17:24:43.053Z"
      },
      {
        "duration": 160,
        "start_time": "2021-10-01T17:24:43.258Z"
      },
      {
        "duration": 11,
        "start_time": "2021-10-01T17:24:43.419Z"
      },
      {
        "duration": 12,
        "start_time": "2021-10-01T17:24:43.432Z"
      },
      {
        "duration": 245,
        "start_time": "2021-10-01T17:24:43.445Z"
      },
      {
        "duration": 258,
        "start_time": "2021-10-01T17:24:43.692Z"
      },
      {
        "duration": 338,
        "start_time": "2021-10-01T17:24:43.952Z"
      },
      {
        "duration": 253,
        "start_time": "2021-10-01T17:24:44.299Z"
      },
      {
        "duration": 351,
        "start_time": "2021-10-01T17:24:44.554Z"
      },
      {
        "duration": 123,
        "start_time": "2021-10-01T17:24:44.907Z"
      },
      {
        "duration": 344,
        "start_time": "2021-10-01T17:24:45.032Z"
      },
      {
        "duration": 5,
        "start_time": "2021-10-01T17:24:45.378Z"
      },
      {
        "duration": 380,
        "start_time": "2021-10-01T17:24:45.386Z"
      },
      {
        "duration": 4,
        "start_time": "2021-10-01T17:24:45.768Z"
      },
      {
        "duration": 274,
        "start_time": "2021-10-01T17:24:45.774Z"
      },
      {
        "duration": 105,
        "start_time": "2021-10-01T17:24:46.050Z"
      },
      {
        "duration": 5,
        "start_time": "2021-10-01T17:24:46.157Z"
      },
      {
        "duration": 8,
        "start_time": "2021-10-01T17:24:46.164Z"
      },
      {
        "duration": 34,
        "start_time": "2021-10-01T17:24:46.173Z"
      },
      {
        "duration": 7,
        "start_time": "2021-10-01T17:24:46.209Z"
      },
      {
        "duration": 10,
        "start_time": "2021-10-01T17:24:46.218Z"
      },
      {
        "duration": 7,
        "start_time": "2021-10-01T17:24:46.229Z"
      },
      {
        "duration": 13,
        "start_time": "2021-10-01T17:24:46.237Z"
      },
      {
        "duration": 266,
        "start_time": "2021-10-01T17:27:28.153Z"
      },
      {
        "duration": 346,
        "start_time": "2021-10-01T17:27:38.503Z"
      },
      {
        "duration": 1073,
        "start_time": "2021-10-01T17:28:22.485Z"
      },
      {
        "duration": 2225,
        "start_time": "2021-10-01T17:28:23.559Z"
      },
      {
        "duration": 12,
        "start_time": "2021-10-01T17:28:25.786Z"
      },
      {
        "duration": 21,
        "start_time": "2021-10-01T17:28:25.799Z"
      },
      {
        "duration": 11,
        "start_time": "2021-10-01T17:28:25.822Z"
      },
      {
        "duration": 24,
        "start_time": "2021-10-01T17:28:25.834Z"
      },
      {
        "duration": 7,
        "start_time": "2021-10-01T17:28:25.859Z"
      },
      {
        "duration": 134,
        "start_time": "2021-10-01T17:28:25.869Z"
      },
      {
        "duration": 4,
        "start_time": "2021-10-01T17:28:26.005Z"
      },
      {
        "duration": 123,
        "start_time": "2021-10-01T17:28:26.010Z"
      },
      {
        "duration": 209,
        "start_time": "2021-10-01T17:28:26.135Z"
      },
      {
        "duration": 158,
        "start_time": "2021-10-01T17:28:26.345Z"
      },
      {
        "duration": 11,
        "start_time": "2021-10-01T17:28:26.505Z"
      },
      {
        "duration": 7,
        "start_time": "2021-10-01T17:28:26.518Z"
      },
      {
        "duration": 257,
        "start_time": "2021-10-01T17:28:26.527Z"
      },
      {
        "duration": 238,
        "start_time": "2021-10-01T17:28:26.785Z"
      },
      {
        "duration": 325,
        "start_time": "2021-10-01T17:28:27.024Z"
      },
      {
        "duration": 242,
        "start_time": "2021-10-01T17:28:27.351Z"
      },
      {
        "duration": 363,
        "start_time": "2021-10-01T17:28:27.595Z"
      },
      {
        "duration": 100,
        "start_time": "2021-10-01T17:28:27.960Z"
      },
      {
        "duration": 278,
        "start_time": "2021-10-01T17:28:28.062Z"
      },
      {
        "duration": 5,
        "start_time": "2021-10-01T17:28:28.342Z"
      },
      {
        "duration": 331,
        "start_time": "2021-10-01T17:28:28.350Z"
      },
      {
        "duration": 4,
        "start_time": "2021-10-01T17:28:28.683Z"
      },
      {
        "duration": 258,
        "start_time": "2021-10-01T17:28:28.700Z"
      },
      {
        "duration": 109,
        "start_time": "2021-10-01T17:28:28.960Z"
      },
      {
        "duration": 5,
        "start_time": "2021-10-01T17:28:29.070Z"
      },
      {
        "duration": 24,
        "start_time": "2021-10-01T17:28:29.077Z"
      },
      {
        "duration": 9,
        "start_time": "2021-10-01T17:28:29.103Z"
      },
      {
        "duration": 7,
        "start_time": "2021-10-01T17:28:29.113Z"
      },
      {
        "duration": 8,
        "start_time": "2021-10-01T17:28:29.121Z"
      },
      {
        "duration": 7,
        "start_time": "2021-10-01T17:28:29.130Z"
      },
      {
        "duration": 12,
        "start_time": "2021-10-01T17:28:29.138Z"
      },
      {
        "duration": 9,
        "start_time": "2021-10-01T17:42:17.046Z"
      },
      {
        "duration": 8,
        "start_time": "2021-10-01T17:42:49.013Z"
      },
      {
        "duration": 7,
        "start_time": "2021-10-01T17:45:57.939Z"
      },
      {
        "duration": 7,
        "start_time": "2021-10-01T17:46:08.540Z"
      },
      {
        "duration": 8,
        "start_time": "2021-10-01T17:46:13.641Z"
      },
      {
        "duration": 8,
        "start_time": "2021-10-01T17:46:17.565Z"
      },
      {
        "duration": 10,
        "start_time": "2021-10-01T17:47:11.033Z"
      },
      {
        "duration": 291,
        "start_time": "2021-10-01T17:50:47.581Z"
      },
      {
        "duration": 14,
        "start_time": "2021-10-01T17:51:16.250Z"
      },
      {
        "duration": 13,
        "start_time": "2021-10-01T17:51:58.346Z"
      },
      {
        "duration": 13,
        "start_time": "2021-10-01T17:53:08.499Z"
      },
      {
        "duration": 11,
        "start_time": "2021-10-01T17:55:54.336Z"
      },
      {
        "duration": 7,
        "start_time": "2021-10-01T18:02:11.281Z"
      },
      {
        "duration": 8,
        "start_time": "2021-10-01T18:02:14.522Z"
      },
      {
        "duration": 11,
        "start_time": "2021-10-01T18:02:15.146Z"
      },
      {
        "duration": 61,
        "start_time": "2021-10-01T18:02:56.192Z"
      },
      {
        "duration": 15,
        "start_time": "2021-10-01T18:03:12.652Z"
      },
      {
        "duration": 13,
        "start_time": "2021-10-01T18:04:35.559Z"
      },
      {
        "duration": 8,
        "start_time": "2021-10-01T18:06:53.495Z"
      },
      {
        "duration": 8,
        "start_time": "2021-10-01T18:06:56.260Z"
      },
      {
        "duration": 10,
        "start_time": "2021-10-01T18:06:56.582Z"
      },
      {
        "duration": 13,
        "start_time": "2021-10-01T18:07:04.481Z"
      },
      {
        "duration": 9,
        "start_time": "2021-10-01T18:07:59.920Z"
      },
      {
        "duration": 8,
        "start_time": "2021-10-01T18:08:02.058Z"
      },
      {
        "duration": 10,
        "start_time": "2021-10-01T18:08:04.288Z"
      },
      {
        "duration": 13,
        "start_time": "2021-10-01T18:08:12.779Z"
      },
      {
        "duration": 8,
        "start_time": "2021-10-01T18:11:17.380Z"
      },
      {
        "duration": 9,
        "start_time": "2021-10-01T18:11:18.090Z"
      },
      {
        "duration": 10,
        "start_time": "2021-10-01T18:11:19.878Z"
      },
      {
        "duration": 10,
        "start_time": "2021-10-01T18:12:44.925Z"
      },
      {
        "duration": 14,
        "start_time": "2021-10-01T18:13:30.519Z"
      },
      {
        "duration": 12,
        "start_time": "2021-10-01T18:14:05.324Z"
      },
      {
        "duration": 13,
        "start_time": "2021-10-01T18:16:00.441Z"
      },
      {
        "duration": 13,
        "start_time": "2021-10-01T18:21:54.727Z"
      },
      {
        "duration": 1062,
        "start_time": "2021-10-01T18:48:29.396Z"
      },
      {
        "duration": 2702,
        "start_time": "2021-10-01T18:48:30.460Z"
      },
      {
        "duration": 11,
        "start_time": "2021-10-01T18:48:33.164Z"
      },
      {
        "duration": 11,
        "start_time": "2021-10-01T18:48:33.177Z"
      },
      {
        "duration": 11,
        "start_time": "2021-10-01T18:48:33.190Z"
      },
      {
        "duration": 30,
        "start_time": "2021-10-01T18:48:33.203Z"
      },
      {
        "duration": 9,
        "start_time": "2021-10-01T18:48:33.235Z"
      },
      {
        "duration": 144,
        "start_time": "2021-10-01T18:48:33.246Z"
      },
      {
        "duration": 8,
        "start_time": "2021-10-01T18:48:33.392Z"
      },
      {
        "duration": 122,
        "start_time": "2021-10-01T18:48:33.402Z"
      },
      {
        "duration": 217,
        "start_time": "2021-10-01T18:48:33.526Z"
      },
      {
        "duration": 163,
        "start_time": "2021-10-01T18:48:33.745Z"
      },
      {
        "duration": 12,
        "start_time": "2021-10-01T18:48:33.909Z"
      },
      {
        "duration": 7,
        "start_time": "2021-10-01T18:48:33.922Z"
      },
      {
        "duration": 269,
        "start_time": "2021-10-01T18:48:33.930Z"
      },
      {
        "duration": 249,
        "start_time": "2021-10-01T18:48:34.201Z"
      },
      {
        "duration": 324,
        "start_time": "2021-10-01T18:48:34.452Z"
      },
      {
        "duration": 253,
        "start_time": "2021-10-01T18:48:34.778Z"
      },
      {
        "duration": 372,
        "start_time": "2021-10-01T18:48:35.032Z"
      },
      {
        "duration": 115,
        "start_time": "2021-10-01T18:48:35.406Z"
      },
      {
        "duration": 300,
        "start_time": "2021-10-01T18:48:35.523Z"
      },
      {
        "duration": 5,
        "start_time": "2021-10-01T18:48:35.825Z"
      },
      {
        "duration": 309,
        "start_time": "2021-10-01T18:48:35.832Z"
      },
      {
        "duration": 5,
        "start_time": "2021-10-01T18:48:36.143Z"
      },
      {
        "duration": 285,
        "start_time": "2021-10-01T18:48:36.150Z"
      },
      {
        "duration": 104,
        "start_time": "2021-10-01T18:48:36.437Z"
      },
      {
        "duration": 7,
        "start_time": "2021-10-01T18:48:36.545Z"
      },
      {
        "duration": 14,
        "start_time": "2021-10-01T18:48:36.553Z"
      },
      {
        "duration": 32,
        "start_time": "2021-10-01T18:48:36.568Z"
      },
      {
        "duration": 13,
        "start_time": "2021-10-01T18:48:36.602Z"
      },
      {
        "duration": 9,
        "start_time": "2021-10-01T18:48:36.616Z"
      },
      {
        "duration": 14,
        "start_time": "2021-10-01T18:48:36.627Z"
      },
      {
        "duration": 14,
        "start_time": "2021-10-01T18:48:36.642Z"
      },
      {
        "duration": 360,
        "start_time": "2021-10-01T18:49:43.908Z"
      },
      {
        "duration": 113,
        "start_time": "2021-10-01T18:49:52.051Z"
      },
      {
        "duration": 972,
        "start_time": "2021-10-01T18:49:58.797Z"
      },
      {
        "duration": 2288,
        "start_time": "2021-10-01T18:49:59.772Z"
      },
      {
        "duration": 11,
        "start_time": "2021-10-01T18:50:02.061Z"
      },
      {
        "duration": 23,
        "start_time": "2021-10-01T18:50:02.074Z"
      },
      {
        "duration": 19,
        "start_time": "2021-10-01T18:50:02.099Z"
      },
      {
        "duration": 37,
        "start_time": "2021-10-01T18:50:02.120Z"
      },
      {
        "duration": 7,
        "start_time": "2021-10-01T18:50:02.160Z"
      },
      {
        "duration": 119,
        "start_time": "2021-10-01T18:50:02.169Z"
      },
      {
        "duration": 3,
        "start_time": "2021-10-01T18:50:02.290Z"
      },
      {
        "duration": 125,
        "start_time": "2021-10-01T18:50:02.294Z"
      },
      {
        "duration": 212,
        "start_time": "2021-10-01T18:50:02.421Z"
      },
      {
        "duration": 166,
        "start_time": "2021-10-01T18:50:02.635Z"
      },
      {
        "duration": 13,
        "start_time": "2021-10-01T18:50:02.803Z"
      },
      {
        "duration": 11,
        "start_time": "2021-10-01T18:50:02.817Z"
      },
      {
        "duration": 269,
        "start_time": "2021-10-01T18:50:02.830Z"
      },
      {
        "duration": 241,
        "start_time": "2021-10-01T18:50:03.101Z"
      },
      {
        "duration": 319,
        "start_time": "2021-10-01T18:50:03.344Z"
      },
      {
        "duration": 248,
        "start_time": "2021-10-01T18:50:03.664Z"
      },
      {
        "duration": 366,
        "start_time": "2021-10-01T18:50:03.913Z"
      },
      {
        "duration": 119,
        "start_time": "2021-10-01T18:50:04.281Z"
      },
      {
        "duration": 313,
        "start_time": "2021-10-01T18:50:04.402Z"
      },
      {
        "duration": 5,
        "start_time": "2021-10-01T18:50:04.718Z"
      },
      {
        "duration": 322,
        "start_time": "2021-10-01T18:50:04.724Z"
      },
      {
        "duration": 5,
        "start_time": "2021-10-01T18:50:05.048Z"
      },
      {
        "duration": 291,
        "start_time": "2021-10-01T18:50:05.054Z"
      },
      {
        "duration": 105,
        "start_time": "2021-10-01T18:50:05.347Z"
      },
      {
        "duration": 5,
        "start_time": "2021-10-01T18:50:05.454Z"
      },
      {
        "duration": 16,
        "start_time": "2021-10-01T18:50:05.461Z"
      },
      {
        "duration": 23,
        "start_time": "2021-10-01T18:50:05.479Z"
      },
      {
        "duration": 7,
        "start_time": "2021-10-01T18:50:05.504Z"
      },
      {
        "duration": 7,
        "start_time": "2021-10-01T18:50:05.513Z"
      },
      {
        "duration": 12,
        "start_time": "2021-10-01T18:50:05.522Z"
      },
      {
        "duration": 13,
        "start_time": "2021-10-01T18:50:05.535Z"
      },
      {
        "duration": 1034,
        "start_time": "2021-10-02T15:33:06.480Z"
      },
      {
        "duration": 2710,
        "start_time": "2021-10-02T15:33:07.516Z"
      },
      {
        "duration": 12,
        "start_time": "2021-10-02T15:33:10.228Z"
      },
      {
        "duration": 16,
        "start_time": "2021-10-02T15:33:10.242Z"
      },
      {
        "duration": 12,
        "start_time": "2021-10-02T15:33:10.260Z"
      },
      {
        "duration": 22,
        "start_time": "2021-10-02T15:33:10.274Z"
      },
      {
        "duration": 8,
        "start_time": "2021-10-02T15:33:10.297Z"
      },
      {
        "duration": 150,
        "start_time": "2021-10-02T15:33:10.308Z"
      },
      {
        "duration": 3,
        "start_time": "2021-10-02T15:33:10.461Z"
      },
      {
        "duration": 135,
        "start_time": "2021-10-02T15:33:10.466Z"
      },
      {
        "duration": 218,
        "start_time": "2021-10-02T15:33:10.603Z"
      },
      {
        "duration": 166,
        "start_time": "2021-10-02T15:33:10.822Z"
      },
      {
        "duration": 11,
        "start_time": "2021-10-02T15:33:10.990Z"
      },
      {
        "duration": 8,
        "start_time": "2021-10-02T15:33:11.003Z"
      },
      {
        "duration": 249,
        "start_time": "2021-10-02T15:33:11.013Z"
      },
      {
        "duration": 237,
        "start_time": "2021-10-02T15:33:11.264Z"
      },
      {
        "duration": 347,
        "start_time": "2021-10-02T15:33:11.502Z"
      },
      {
        "duration": 241,
        "start_time": "2021-10-02T15:33:11.850Z"
      },
      {
        "duration": 349,
        "start_time": "2021-10-02T15:33:12.092Z"
      },
      {
        "duration": 119,
        "start_time": "2021-10-02T15:33:12.442Z"
      },
      {
        "duration": 316,
        "start_time": "2021-10-02T15:33:12.562Z"
      },
      {
        "duration": 5,
        "start_time": "2021-10-02T15:33:12.879Z"
      },
      {
        "duration": 317,
        "start_time": "2021-10-02T15:33:12.887Z"
      },
      {
        "duration": 4,
        "start_time": "2021-10-02T15:33:13.206Z"
      },
      {
        "duration": 282,
        "start_time": "2021-10-02T15:33:13.211Z"
      },
      {
        "duration": 115,
        "start_time": "2021-10-02T15:33:13.495Z"
      },
      {
        "duration": 6,
        "start_time": "2021-10-02T15:33:13.611Z"
      },
      {
        "duration": 36,
        "start_time": "2021-10-02T15:33:13.619Z"
      },
      {
        "duration": 13,
        "start_time": "2021-10-02T15:33:13.657Z"
      },
      {
        "duration": 7,
        "start_time": "2021-10-02T15:33:13.672Z"
      },
      {
        "duration": 10,
        "start_time": "2021-10-02T15:33:13.681Z"
      },
      {
        "duration": 10,
        "start_time": "2021-10-02T15:33:13.693Z"
      },
      {
        "duration": 14,
        "start_time": "2021-10-02T15:33:13.704Z"
      },
      {
        "duration": 80,
        "start_time": "2021-10-02T15:42:29.085Z"
      },
      {
        "duration": 83,
        "start_time": "2021-10-02T15:52:11.510Z"
      },
      {
        "duration": 78,
        "start_time": "2021-10-02T15:55:37.725Z"
      },
      {
        "duration": 584,
        "start_time": "2021-10-02T19:17:39.263Z"
      },
      {
        "duration": 286,
        "start_time": "2021-10-02T19:17:40.532Z"
      },
      {
        "duration": 1103,
        "start_time": "2021-10-02T19:17:49.728Z"
      },
      {
        "duration": 2770,
        "start_time": "2021-10-02T19:17:50.833Z"
      },
      {
        "duration": 11,
        "start_time": "2021-10-02T19:17:53.605Z"
      },
      {
        "duration": 18,
        "start_time": "2021-10-02T19:17:53.618Z"
      },
      {
        "duration": 11,
        "start_time": "2021-10-02T19:17:53.638Z"
      },
      {
        "duration": 23,
        "start_time": "2021-10-02T19:17:53.651Z"
      },
      {
        "duration": 8,
        "start_time": "2021-10-02T19:17:53.676Z"
      },
      {
        "duration": 142,
        "start_time": "2021-10-02T19:17:53.686Z"
      },
      {
        "duration": 3,
        "start_time": "2021-10-02T19:17:53.830Z"
      },
      {
        "duration": 125,
        "start_time": "2021-10-02T19:17:53.835Z"
      },
      {
        "duration": 204,
        "start_time": "2021-10-02T19:17:53.961Z"
      },
      {
        "duration": 165,
        "start_time": "2021-10-02T19:17:54.166Z"
      },
      {
        "duration": 24,
        "start_time": "2021-10-02T19:17:54.333Z"
      },
      {
        "duration": 7,
        "start_time": "2021-10-02T19:17:54.358Z"
      },
      {
        "duration": 7,
        "start_time": "2021-10-02T19:17:54.367Z"
      },
      {
        "duration": 297,
        "start_time": "2021-10-02T19:17:54.376Z"
      },
      {
        "duration": 232,
        "start_time": "2021-10-02T19:17:54.674Z"
      },
      {
        "duration": 327,
        "start_time": "2021-10-02T19:17:54.908Z"
      },
      {
        "duration": 238,
        "start_time": "2021-10-02T19:17:55.237Z"
      },
      {
        "duration": 331,
        "start_time": "2021-10-02T19:17:55.477Z"
      },
      {
        "duration": 94,
        "start_time": "2021-10-02T19:17:55.809Z"
      },
      {
        "duration": 280,
        "start_time": "2021-10-02T19:17:55.904Z"
      },
      {
        "duration": 4,
        "start_time": "2021-10-02T19:17:56.188Z"
      },
      {
        "duration": 283,
        "start_time": "2021-10-02T19:17:56.194Z"
      },
      {
        "duration": 4,
        "start_time": "2021-10-02T19:17:56.479Z"
      },
      {
        "duration": 270,
        "start_time": "2021-10-02T19:17:56.484Z"
      },
      {
        "duration": 127,
        "start_time": "2021-10-02T19:17:56.756Z"
      },
      {
        "duration": 6,
        "start_time": "2021-10-02T19:17:56.885Z"
      },
      {
        "duration": 12,
        "start_time": "2021-10-02T19:17:56.893Z"
      },
      {
        "duration": 12,
        "start_time": "2021-10-02T19:17:56.907Z"
      },
      {
        "duration": 34,
        "start_time": "2021-10-02T19:17:56.921Z"
      },
      {
        "duration": 11,
        "start_time": "2021-10-02T19:17:56.956Z"
      },
      {
        "duration": 12,
        "start_time": "2021-10-02T19:17:56.969Z"
      },
      {
        "duration": 14,
        "start_time": "2021-10-02T19:17:56.982Z"
      },
      {
        "duration": 462,
        "start_time": "2021-10-02T19:20:34.509Z"
      },
      {
        "duration": 376,
        "start_time": "2021-10-02T19:28:15.470Z"
      },
      {
        "duration": 260,
        "start_time": "2021-10-02T19:29:51.049Z"
      },
      {
        "duration": 362,
        "start_time": "2021-10-02T19:32:01.405Z"
      },
      {
        "duration": 369,
        "start_time": "2021-10-02T19:32:21.661Z"
      },
      {
        "duration": 394,
        "start_time": "2021-10-02T19:32:27.113Z"
      },
      {
        "duration": 325,
        "start_time": "2021-10-02T19:32:32.398Z"
      },
      {
        "duration": 321,
        "start_time": "2021-10-02T19:33:46.498Z"
      },
      {
        "duration": 362,
        "start_time": "2021-10-02T19:33:50.006Z"
      },
      {
        "duration": 406,
        "start_time": "2021-10-02T19:33:55.133Z"
      },
      {
        "duration": 357,
        "start_time": "2021-10-02T19:34:03.421Z"
      },
      {
        "duration": 251,
        "start_time": "2021-10-02T19:35:29.783Z"
      },
      {
        "duration": 432,
        "start_time": "2021-10-02T19:38:09.469Z"
      },
      {
        "duration": 360,
        "start_time": "2021-10-02T19:38:37.920Z"
      },
      {
        "duration": 332,
        "start_time": "2021-10-02T19:42:27.152Z"
      },
      {
        "duration": 338,
        "start_time": "2021-10-02T19:44:08.861Z"
      },
      {
        "duration": 1086,
        "start_time": "2021-10-02T19:45:47.334Z"
      },
      {
        "duration": 2584,
        "start_time": "2021-10-02T19:45:48.422Z"
      },
      {
        "duration": 12,
        "start_time": "2021-10-02T19:45:51.008Z"
      },
      {
        "duration": 17,
        "start_time": "2021-10-02T19:45:51.022Z"
      },
      {
        "duration": 11,
        "start_time": "2021-10-02T19:45:51.041Z"
      },
      {
        "duration": 29,
        "start_time": "2021-10-02T19:45:51.054Z"
      },
      {
        "duration": 8,
        "start_time": "2021-10-02T19:45:51.085Z"
      },
      {
        "duration": 149,
        "start_time": "2021-10-02T19:45:51.095Z"
      },
      {
        "duration": 5,
        "start_time": "2021-10-02T19:45:51.249Z"
      },
      {
        "duration": 130,
        "start_time": "2021-10-02T19:45:51.256Z"
      },
      {
        "duration": 223,
        "start_time": "2021-10-02T19:45:51.388Z"
      },
      {
        "duration": 165,
        "start_time": "2021-10-02T19:45:51.613Z"
      },
      {
        "duration": 14,
        "start_time": "2021-10-02T19:45:51.780Z"
      },
      {
        "duration": 7,
        "start_time": "2021-10-02T19:45:51.795Z"
      },
      {
        "duration": 16,
        "start_time": "2021-10-02T19:45:51.804Z"
      },
      {
        "duration": 344,
        "start_time": "2021-10-02T19:45:51.822Z"
      },
      {
        "duration": 281,
        "start_time": "2021-10-02T19:45:52.168Z"
      },
      {
        "duration": 379,
        "start_time": "2021-10-02T19:45:52.451Z"
      },
      {
        "duration": 274,
        "start_time": "2021-10-02T19:45:52.832Z"
      },
      {
        "duration": 378,
        "start_time": "2021-10-02T19:45:53.108Z"
      },
      {
        "duration": 125,
        "start_time": "2021-10-02T19:45:53.488Z"
      },
      {
        "duration": 366,
        "start_time": "2021-10-02T19:45:53.614Z"
      },
      {
        "duration": 5,
        "start_time": "2021-10-02T19:45:53.983Z"
      },
      {
        "duration": 340,
        "start_time": "2021-10-02T19:45:53.990Z"
      },
      {
        "duration": 28,
        "start_time": "2021-10-02T19:45:54.332Z"
      },
      {
        "duration": 304,
        "start_time": "2021-10-02T19:45:54.362Z"
      },
      {
        "duration": 127,
        "start_time": "2021-10-02T19:45:54.668Z"
      },
      {
        "duration": 6,
        "start_time": "2021-10-02T19:45:54.796Z"
      },
      {
        "duration": 19,
        "start_time": "2021-10-02T19:45:54.804Z"
      },
      {
        "duration": 35,
        "start_time": "2021-10-02T19:45:54.825Z"
      },
      {
        "duration": 8,
        "start_time": "2021-10-02T19:45:54.865Z"
      },
      {
        "duration": 11,
        "start_time": "2021-10-02T19:45:54.875Z"
      },
      {
        "duration": 13,
        "start_time": "2021-10-02T19:45:54.887Z"
      },
      {
        "duration": 14,
        "start_time": "2021-10-02T19:45:54.901Z"
      },
      {
        "duration": 295,
        "start_time": "2021-10-02T19:47:51.828Z"
      },
      {
        "duration": 364,
        "start_time": "2021-10-02T19:48:13.105Z"
      },
      {
        "duration": 280,
        "start_time": "2021-10-02T19:48:44.306Z"
      },
      {
        "duration": 278,
        "start_time": "2021-10-02T19:48:50.010Z"
      },
      {
        "duration": 274,
        "start_time": "2021-10-02T19:48:59.392Z"
      },
      {
        "duration": 304,
        "start_time": "2021-10-02T19:49:10.398Z"
      },
      {
        "duration": 279,
        "start_time": "2021-10-02T19:49:22.446Z"
      },
      {
        "duration": 274,
        "start_time": "2021-10-02T19:49:31.760Z"
      },
      {
        "duration": 1003,
        "start_time": "2021-10-02T19:50:11.096Z"
      },
      {
        "duration": 2443,
        "start_time": "2021-10-02T19:50:12.101Z"
      },
      {
        "duration": 11,
        "start_time": "2021-10-02T19:50:14.546Z"
      },
      {
        "duration": 20,
        "start_time": "2021-10-02T19:50:14.558Z"
      },
      {
        "duration": 10,
        "start_time": "2021-10-02T19:50:14.580Z"
      },
      {
        "duration": 20,
        "start_time": "2021-10-02T19:50:14.592Z"
      },
      {
        "duration": 7,
        "start_time": "2021-10-02T19:50:14.614Z"
      },
      {
        "duration": 136,
        "start_time": "2021-10-02T19:50:14.624Z"
      },
      {
        "duration": 4,
        "start_time": "2021-10-02T19:50:14.762Z"
      },
      {
        "duration": 128,
        "start_time": "2021-10-02T19:50:14.767Z"
      },
      {
        "duration": 206,
        "start_time": "2021-10-02T19:50:14.897Z"
      },
      {
        "duration": 167,
        "start_time": "2021-10-02T19:50:15.105Z"
      },
      {
        "duration": 12,
        "start_time": "2021-10-02T19:50:15.274Z"
      },
      {
        "duration": 9,
        "start_time": "2021-10-02T19:50:15.288Z"
      },
      {
        "duration": 11,
        "start_time": "2021-10-02T19:50:15.299Z"
      },
      {
        "duration": 313,
        "start_time": "2021-10-02T19:50:15.312Z"
      },
      {
        "duration": 284,
        "start_time": "2021-10-02T19:50:15.627Z"
      },
      {
        "duration": 380,
        "start_time": "2021-10-02T19:50:15.913Z"
      },
      {
        "duration": 261,
        "start_time": "2021-10-02T19:50:16.294Z"
      },
      {
        "duration": 353,
        "start_time": "2021-10-02T19:50:16.557Z"
      },
      {
        "duration": 97,
        "start_time": "2021-10-02T19:50:16.911Z"
      },
      {
        "duration": 298,
        "start_time": "2021-10-02T19:50:17.009Z"
      },
      {
        "duration": 4,
        "start_time": "2021-10-02T19:50:17.310Z"
      },
      {
        "duration": 316,
        "start_time": "2021-10-02T19:50:17.316Z"
      },
      {
        "duration": 4,
        "start_time": "2021-10-02T19:50:17.634Z"
      },
      {
        "duration": 268,
        "start_time": "2021-10-02T19:50:17.650Z"
      },
      {
        "duration": 109,
        "start_time": "2021-10-02T19:50:17.919Z"
      },
      {
        "duration": 22,
        "start_time": "2021-10-02T19:50:18.030Z"
      },
      {
        "duration": 20,
        "start_time": "2021-10-02T19:50:18.054Z"
      },
      {
        "duration": 11,
        "start_time": "2021-10-02T19:50:18.076Z"
      },
      {
        "duration": 14,
        "start_time": "2021-10-02T19:50:18.089Z"
      },
      {
        "duration": 9,
        "start_time": "2021-10-02T19:50:18.104Z"
      },
      {
        "duration": 14,
        "start_time": "2021-10-02T19:50:18.114Z"
      },
      {
        "duration": 28,
        "start_time": "2021-10-02T19:50:18.130Z"
      }
    ],
    "colab": {
      "collapsed_sections": [],
      "name": "b0ecfa39-aa26-4bcf-9c56-9ecbfef2d80d.ipynb",
      "provenance": [],
      "toc_visible": true,
      "include_colab_link": true
    },
    "kernelspec": {
      "display_name": "Python 3",
      "language": "python",
      "name": "python3"
    },
    "language_info": {
      "codemirror_mode": {
        "name": "ipython",
        "version": 3
      },
      "file_extension": ".py",
      "mimetype": "text/x-python",
      "name": "python",
      "nbconvert_exporter": "python",
      "pygments_lexer": "ipython3",
      "version": "3.7.8"
    },
    "toc": {
      "base_numbering": 1,
      "nav_menu": {},
      "number_sections": true,
      "sideBar": true,
      "skip_h1_title": true,
      "title_cell": "Table of Contents",
      "title_sidebar": "Contents",
      "toc_cell": false,
      "toc_position": {},
      "toc_section_display": true,
      "toc_window_display": false
    }
  },
  "nbformat": 4,
  "nbformat_minor": 0
}